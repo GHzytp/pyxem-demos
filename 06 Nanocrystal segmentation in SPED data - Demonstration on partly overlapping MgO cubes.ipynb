{
 "cells": [
  {
   "cell_type": "markdown",
   "metadata": {},
   "source": [
    "# Nanocrystal Segmentation"
   ]
  },
  {
   "cell_type": "markdown",
   "metadata": {},
   "source": [
    "This notebook demonstrates two approaches to nanocrystal segmentation:\n",
    "1. Virtual dark-field (VDF) imaging-based segmentation\n",
    "2. Non-negative matrix factorisation (NMF)-based segmentation\n",
    "\n",
    "The segmentation is demonstrated on a SPED dataset of partly overlapping MgO nanoparticles, where some of the particles share the same orientation."
   ]
  },
  {
   "cell_type": "markdown",
   "metadata": {},
   "source": [
    "This functionality has been checked to run with pyxem-0.11.0 (May 2020). Bugs are always possible, do not trust the code blindly, and if you experience any issues please report them here: https://github.com/pyxem/pyxem-demos/issues"
   ]
  },
  {
   "cell_type": "markdown",
   "metadata": {},
   "source": [
    "## Contents"
   ]
  },
  {
   "cell_type": "markdown",
   "metadata": {},
   "source": [
    "1. <a href='#gen'> Setting up, Loading Data, Pre-processing</a>\n",
    "2. <a href='#vdf'> Virtual Image Based Segmentation</a>\n",
    "3. <a href='#nmf'> NMF Based Segmentation</a>"
   ]
  },
  {
   "cell_type": "markdown",
   "metadata": {},
   "source": [
    "<a id='gen'></a>\n",
    "## 1. Setting up, Loading Data, Pre-processing"
   ]
  },
  {
   "cell_type": "markdown",
   "metadata": {},
   "source": [
    "Import pyxem and other required libraries"
   ]
  },
  {
   "cell_type": "code",
   "execution_count": 1,
   "metadata": {},
   "outputs": [
    {
     "name": "stderr",
     "output_type": "stream",
     "text": [
      "/home/carter/anaconda3/lib/python3.7/site-packages/sklearn/linear_model/least_angle.py:35: DeprecationWarning: `np.float` is a deprecated alias for the builtin `float`. To silence this warning, use `float` by itself. Doing this will not modify any behavior and is safe. If you specifically wanted the numpy scalar type, use `np.float64` here.\n",
      "Deprecated in NumPy 1.20; for more details and guidance: https://numpy.org/devdocs/release/1.20.0-notes.html#deprecations\n",
      "  eps=np.finfo(np.float).eps,\n",
      "/home/carter/anaconda3/lib/python3.7/site-packages/sklearn/linear_model/least_angle.py:597: DeprecationWarning: `np.float` is a deprecated alias for the builtin `float`. To silence this warning, use `float` by itself. Doing this will not modify any behavior and is safe. If you specifically wanted the numpy scalar type, use `np.float64` here.\n",
      "Deprecated in NumPy 1.20; for more details and guidance: https://numpy.org/devdocs/release/1.20.0-notes.html#deprecations\n",
      "  eps=np.finfo(np.float).eps, copy_X=True, fit_path=True,\n",
      "/home/carter/anaconda3/lib/python3.7/site-packages/sklearn/linear_model/least_angle.py:836: DeprecationWarning: `np.float` is a deprecated alias for the builtin `float`. To silence this warning, use `float` by itself. Doing this will not modify any behavior and is safe. If you specifically wanted the numpy scalar type, use `np.float64` here.\n",
      "Deprecated in NumPy 1.20; for more details and guidance: https://numpy.org/devdocs/release/1.20.0-notes.html#deprecations\n",
      "  eps=np.finfo(np.float).eps, copy_X=True, fit_path=True,\n",
      "/home/carter/anaconda3/lib/python3.7/site-packages/sklearn/linear_model/least_angle.py:862: DeprecationWarning: `np.float` is a deprecated alias for the builtin `float`. To silence this warning, use `float` by itself. Doing this will not modify any behavior and is safe. If you specifically wanted the numpy scalar type, use `np.float64` here.\n",
      "Deprecated in NumPy 1.20; for more details and guidance: https://numpy.org/devdocs/release/1.20.0-notes.html#deprecations\n",
      "  eps=np.finfo(np.float).eps, positive=False):\n",
      "/home/carter/anaconda3/lib/python3.7/site-packages/sklearn/linear_model/least_angle.py:1097: DeprecationWarning: `np.float` is a deprecated alias for the builtin `float`. To silence this warning, use `float` by itself. Doing this will not modify any behavior and is safe. If you specifically wanted the numpy scalar type, use `np.float64` here.\n",
      "Deprecated in NumPy 1.20; for more details and guidance: https://numpy.org/devdocs/release/1.20.0-notes.html#deprecations\n",
      "  max_n_alphas=1000, n_jobs=None, eps=np.finfo(np.float).eps,\n",
      "/home/carter/anaconda3/lib/python3.7/site-packages/sklearn/linear_model/least_angle.py:1344: DeprecationWarning: `np.float` is a deprecated alias for the builtin `float`. To silence this warning, use `float` by itself. Doing this will not modify any behavior and is safe. If you specifically wanted the numpy scalar type, use `np.float64` here.\n",
      "Deprecated in NumPy 1.20; for more details and guidance: https://numpy.org/devdocs/release/1.20.0-notes.html#deprecations\n",
      "  max_n_alphas=1000, n_jobs=None, eps=np.finfo(np.float).eps,\n",
      "/home/carter/anaconda3/lib/python3.7/site-packages/sklearn/linear_model/least_angle.py:1480: DeprecationWarning: `np.float` is a deprecated alias for the builtin `float`. To silence this warning, use `float` by itself. Doing this will not modify any behavior and is safe. If you specifically wanted the numpy scalar type, use `np.float64` here.\n",
      "Deprecated in NumPy 1.20; for more details and guidance: https://numpy.org/devdocs/release/1.20.0-notes.html#deprecations\n",
      "  eps=np.finfo(np.float).eps, copy_X=True, positive=False):\n",
      "/home/carter/anaconda3/lib/python3.7/site-packages/sklearn/linear_model/randomized_l1.py:152: DeprecationWarning: `np.float` is a deprecated alias for the builtin `float`. To silence this warning, use `float` by itself. Doing this will not modify any behavior and is safe. If you specifically wanted the numpy scalar type, use `np.float64` here.\n",
      "Deprecated in NumPy 1.20; for more details and guidance: https://numpy.org/devdocs/release/1.20.0-notes.html#deprecations\n",
      "  precompute=False, eps=np.finfo(np.float).eps,\n",
      "/home/carter/anaconda3/lib/python3.7/site-packages/sklearn/linear_model/randomized_l1.py:320: DeprecationWarning: `np.float` is a deprecated alias for the builtin `float`. To silence this warning, use `float` by itself. Doing this will not modify any behavior and is safe. If you specifically wanted the numpy scalar type, use `np.float64` here.\n",
      "Deprecated in NumPy 1.20; for more details and guidance: https://numpy.org/devdocs/release/1.20.0-notes.html#deprecations\n",
      "  eps=np.finfo(np.float).eps, random_state=None,\n",
      "/home/carter/anaconda3/lib/python3.7/site-packages/sklearn/linear_model/randomized_l1.py:580: DeprecationWarning: `np.float` is a deprecated alias for the builtin `float`. To silence this warning, use `float` by itself. Doing this will not modify any behavior and is safe. If you specifically wanted the numpy scalar type, use `np.float64` here.\n",
      "Deprecated in NumPy 1.20; for more details and guidance: https://numpy.org/devdocs/release/1.20.0-notes.html#deprecations\n",
      "  eps=4 * np.finfo(np.float).eps, n_jobs=None,\n",
      "/home/carter/anaconda3/lib/python3.7/site-packages/sklearn/decomposition/online_lda.py:31: DeprecationWarning: `np.float` is a deprecated alias for the builtin `float`. To silence this warning, use `float` by itself. Doing this will not modify any behavior and is safe. If you specifically wanted the numpy scalar type, use `np.float64` here.\n",
      "Deprecated in NumPy 1.20; for more details and guidance: https://numpy.org/devdocs/release/1.20.0-notes.html#deprecations\n",
      "  EPS = np.finfo(np.float).eps\n",
      "WARNING:hyperspy.api:The ipywidgets GUI elements are not available, probably because the hyperspy_gui_ipywidgets package is not installed.\n",
      "WARNING:hyperspy_gui_traitsui:The module://ipykernel.pylab.backend_inline matplotlib backend is not supported by the installed traitsui version and the ETS toolkit has been set to null. To set the ETS toolkit independently from the matplotlib backend, set it before importing matplotlib. See http://hyperspy.readthedocs.io/en/stable/user_guide/getting_started.html for more information.\n",
      "WARNING:hyperspy_gui_traitsui:The traitsui GUI elements are not available.\n",
      "ERROR:numba.cuda.cudadrv.driver:Call to cuInit results in CUDA_ERROR_NO_DEVICE\n",
      "WARNING:silx.opencl.common:Unable to import pyOpenCl. Please install it from: http://pypi.python.org/pypi/pyopencl\n"
     ]
    }
   ],
   "source": [
    "%matplotlib inline\n",
    "import numpy as np\n",
    "import hyperspy.api as hs\n",
    "import matplotlib.pyplot as plt\n",
    "import pyxem as pxm"
   ]
  },
  {
   "cell_type": "markdown",
   "metadata": {},
   "source": [
    "Load demonstration data"
   ]
  },
  {
   "cell_type": "code",
   "execution_count": 2,
   "metadata": {},
   "outputs": [],
   "source": [
    "dp = hs.load('./data/06/mgo_nanoparticles.hdf5')"
   ]
  },
  {
   "cell_type": "code",
   "execution_count": 3,
   "metadata": {},
   "outputs": [
    {
     "data": {
      "text/plain": [
       "<ElectronDiffraction2D, title: , dimensions: (54, 57|72, 72)>"
      ]
     },
     "execution_count": 3,
     "metadata": {},
     "output_type": "execute_result"
    }
   ],
   "source": [
    "dp"
   ]
  },
  {
   "cell_type": "markdown",
   "metadata": {},
   "source": [
    "Plot data to inspect"
   ]
  },
  {
   "cell_type": "code",
   "execution_count": 4,
   "metadata": {},
   "outputs": [
    {
     "data": {
      "image/png": "[encoded data removed]",
      "text/plain": [
       "<Figure size 432x414.545 with 2 Axes>"
      ]
     },
     "metadata": {
      "needs_background": "light"
     },
     "output_type": "display_data"
    },
    {
     "data": {
      "image/png": "[encoded data removed]",
      "text/plain": [
       "<Figure size 432x392.727 with 2 Axes>"
      ]
     },
     "metadata": {
      "needs_background": "light"
     },
     "output_type": "display_data"
    }
   ],
   "source": [
    "dp.plot(cmap='magma_r')"
   ]
  },
  {
   "cell_type": "markdown",
   "metadata": {},
   "source": [
    "Remove the background"
   ]
  },
  {
   "cell_type": "code",
   "execution_count": 5,
   "metadata": {},
   "outputs": [],
   "source": [
    "sigma_min = 1.7\n",
    "sigma_max = 13.2\n",
    "\n",
    "dp_rb= dp.subtract_diffraction_background('difference of gaussians', \n",
    "                             min_sigma=sigma_min, \n",
    "                             max_sigma=sigma_max)"
   ]
  },
  {
   "cell_type": "code",
   "execution_count": 6,
   "metadata": {},
   "outputs": [
    {
     "data": {
      "text/plain": [
       "array([[[[820., 851., 813., ..., 791., 815., 786.],\n",
       "         [465., 603., 463., ..., 507., 672., 475.],\n",
       "         [497., 428., 591., ..., 709., 665., 567.],\n",
       "         ...,\n",
       "         [415., 502., 414., ..., 559., 577., 588.],\n",
       "         [381., 470., 535., ..., 501., 755., 579.],\n",
       "         [449., 532., 423., ..., 678., 675., 654.]],\n",
       "\n",
       "        [[739., 779., 722., ..., 730., 753., 794.],\n",
       "         [666., 434., 470., ..., 626., 628., 553.],\n",
       "         [594., 528., 621., ..., 522., 483., 571.],\n",
       "         ...,\n",
       "         [502., 550., 564., ..., 630., 610., 591.],\n",
       "         [523., 478., 577., ..., 670., 652., 640.],\n",
       "         [443., 541., 442., ..., 624., 695., 691.]],\n",
       "\n",
       "        [[718., 763., 686., ..., 746., 816., 790.],\n",
       "         [514., 524., 429., ..., 619., 644., 647.],\n",
       "         [604., 572., 612., ..., 536., 631., 534.],\n",
       "         ...,\n",
       "         [556., 386., 529., ..., 507., 717., 555.],\n",
       "         [380., 487., 507., ..., 643., 791., 611.],\n",
       "         [494., 534., 474., ..., 713., 574., 595.]],\n",
       "\n",
       "        ...,\n",
       "\n",
       "        [[742., 772., 779., ..., 767., 826., 751.],\n",
       "         [450., 490., 602., ..., 591., 596., 538.],\n",
       "         [598., 557., 534., ..., 557., 636., 607.],\n",
       "         ...,\n",
       "         [524., 386., 374., ..., 615., 733., 585.],\n",
       "         [470., 694., 515., ..., 585., 830., 615.],\n",
       "         [404., 329., 335., ..., 649., 617., 516.]],\n",
       "\n",
       "        [[688., 782., 799., ..., 754., 928., 796.],\n",
       "         [629., 522., 520., ..., 492., 684., 586.],\n",
       "         [435., 613., 474., ..., 672., 624., 679.],\n",
       "         ...,\n",
       "         [497., 423., 525., ..., 698., 678., 644.],\n",
       "         [456., 483., 452., ..., 683., 552., 768.],\n",
       "         [505., 534., 501., ..., 690., 734., 631.]],\n",
       "\n",
       "        [[913., 701., 822., ..., 853., 793., 687.],\n",
       "         [624., 471., 570., ..., 593., 528., 749.],\n",
       "         [640., 498., 497., ..., 730., 654., 612.],\n",
       "         ...,\n",
       "         [369., 407., 526., ..., 705., 731., 599.],\n",
       "         [555., 402., 411., ..., 605., 549., 650.],\n",
       "         [343., 608., 246., ..., 679., 529., 593.]]],\n",
       "\n",
       "\n",
       "       [[[842., 663., 741., ..., 796., 678., 775.],\n",
       "         [522., 605., 528., ..., 766., 536., 488.],\n",
       "         [528., 639., 452., ..., 635., 674., 626.],\n",
       "         ...,\n",
       "         [511., 557., 421., ..., 691., 586., 632.],\n",
       "         [375., 525., 545., ..., 877., 653., 735.],\n",
       "         [383., 447., 494., ..., 629., 725., 637.]],\n",
       "\n",
       "        [[547., 816., 603., ..., 748., 696., 743.],\n",
       "         [509., 555., 556., ..., 612., 557., 599.],\n",
       "         [555., 529., 604., ..., 739., 524., 495.],\n",
       "         ...,\n",
       "         [482., 533., 479., ..., 787., 625., 691.],\n",
       "         [540., 461., 536., ..., 629., 507., 646.],\n",
       "         [463., 283., 510., ..., 629., 638., 714.]],\n",
       "\n",
       "        [[747., 871., 633., ..., 750., 726., 871.],\n",
       "         [480., 589., 508., ..., 625., 501., 492.],\n",
       "         [450., 441., 555., ..., 570., 591., 567.],\n",
       "         ...,\n",
       "         [540., 530., 344., ..., 708., 678., 528.],\n",
       "         [282., 439., 424., ..., 660., 584., 512.],\n",
       "         [486., 375., 423., ..., 665., 713., 562.]],\n",
       "\n",
       "        ...,\n",
       "\n",
       "        [[636., 829., 723., ..., 709., 616., 717.],\n",
       "         [565., 521., 580., ..., 601., 641., 469.],\n",
       "         [462., 513., 501., ..., 637., 566., 605.],\n",
       "         ...,\n",
       "         [591., 413., 556., ..., 707., 645., 698.],\n",
       "         [479., 566., 507., ..., 617., 519., 580.],\n",
       "         [431., 549., 432., ..., 656., 740., 733.]],\n",
       "\n",
       "        [[685., 753., 787., ..., 703., 715., 770.],\n",
       "         [563., 503., 638., ..., 541., 522., 472.],\n",
       "         [642., 428., 581., ..., 543., 636., 554.],\n",
       "         ...,\n",
       "         [473., 517., 537., ..., 707., 619., 606.],\n",
       "         [454., 480., 410., ..., 695., 654., 572.],\n",
       "         [340., 426., 589., ..., 480., 621., 544.]],\n",
       "\n",
       "        [[783., 773., 692., ..., 735., 741., 632.],\n",
       "         [427., 449., 513., ..., 573., 573., 474.],\n",
       "         [558., 519., 609., ..., 595., 593., 637.],\n",
       "         ...,\n",
       "         [534., 527., 450., ..., 728., 658., 634.],\n",
       "         [571., 510., 573., ..., 658., 638., 468.],\n",
       "         [373., 444., 425., ..., 629., 633., 697.]]],\n",
       "\n",
       "\n",
       "       [[[701., 772., 746., ..., 765., 724., 775.],\n",
       "         [635., 531., 444., ..., 544., 576., 629.],\n",
       "         [463., 458., 564., ..., 586., 604., 738.],\n",
       "         ...,\n",
       "         [428., 530., 325., ..., 652., 521., 624.],\n",
       "         [319., 392., 487., ..., 718., 647., 655.],\n",
       "         [494., 528., 484., ..., 714., 591., 652.]],\n",
       "\n",
       "        [[679., 697., 692., ..., 768., 906., 679.],\n",
       "         [489., 587., 445., ..., 584., 543., 659.],\n",
       "         [562., 537., 433., ..., 608., 545., 725.],\n",
       "         ...,\n",
       "         [523., 407., 496., ..., 594., 549., 579.],\n",
       "         [474., 552., 536., ..., 697., 788., 636.],\n",
       "         [375., 401., 439., ..., 623., 591., 607.]],\n",
       "\n",
       "        [[725., 614., 759., ..., 872., 748., 820.],\n",
       "         [414., 517., 571., ..., 576., 629., 539.],\n",
       "         [520., 684., 510., ..., 623., 542., 575.],\n",
       "         ...,\n",
       "         [386., 532., 474., ..., 681., 581., 659.],\n",
       "         [420., 453., 488., ..., 590., 628., 558.],\n",
       "         [456., 532., 478., ..., 789., 738., 599.]],\n",
       "\n",
       "        ...,\n",
       "\n",
       "        [[809., 573., 745., ..., 798., 784., 788.],\n",
       "         [678., 433., 515., ..., 536., 482., 617.],\n",
       "         [462., 574., 586., ..., 592., 637., 639.],\n",
       "         ...,\n",
       "         [582., 399., 509., ..., 600., 593., 462.],\n",
       "         [531., 389., 632., ..., 640., 732., 587.],\n",
       "         [496., 728., 485., ..., 633., 560., 619.]],\n",
       "\n",
       "        [[840., 779., 787., ..., 709., 699., 770.],\n",
       "         [569., 613., 568., ..., 632., 563., 619.],\n",
       "         [520., 555., 545., ..., 564., 481., 679.],\n",
       "         ...,\n",
       "         [488., 382., 530., ..., 592., 627., 702.],\n",
       "         [368., 602., 407., ..., 744., 613., 582.],\n",
       "         [595., 543., 381., ..., 682., 674., 768.]],\n",
       "\n",
       "        [[718., 759., 791., ..., 759., 788., 646.],\n",
       "         [599., 530., 563., ..., 590., 465., 590.],\n",
       "         [471., 436., 447., ..., 651., 662., 600.],\n",
       "         ...,\n",
       "         [340., 422., 487., ..., 727., 752., 671.],\n",
       "         [412., 484., 320., ..., 587., 629., 578.],\n",
       "         [434., 571., 542., ..., 688., 720., 557.]]],\n",
       "\n",
       "\n",
       "       ...,\n",
       "\n",
       "\n",
       "       [[[763., 728., 804., ..., 768., 794., 785.],\n",
       "         [493., 565., 599., ..., 601., 508., 625.],\n",
       "         [542., 595., 515., ..., 591., 575., 607.],\n",
       "         ...,\n",
       "         [457., 441., 592., ..., 748., 633., 720.],\n",
       "         [361., 527., 443., ..., 657., 519., 790.],\n",
       "         [479., 433., 365., ..., 622., 821., 612.]],\n",
       "\n",
       "        [[825., 699., 795., ..., 779., 822., 799.],\n",
       "         [497., 502., 611., ..., 621., 635., 597.],\n",
       "         [560., 625., 596., ..., 633., 577., 602.],\n",
       "         ...,\n",
       "         [521., 509., 556., ..., 628., 646., 624.],\n",
       "         [444., 373., 480., ..., 523., 711., 596.],\n",
       "         [551., 502., 451., ..., 597., 710., 547.]],\n",
       "\n",
       "        [[838., 727., 746., ..., 763., 759., 762.],\n",
       "         [528., 571., 515., ..., 659., 577., 576.],\n",
       "         [542., 670., 568., ..., 659., 673., 538.],\n",
       "         ...,\n",
       "         [378., 484., 515., ..., 725., 673., 698.],\n",
       "         [293., 482., 543., ..., 676., 712., 581.],\n",
       "         [402., 464., 580., ..., 646., 612., 583.]],\n",
       "\n",
       "        ...,\n",
       "\n",
       "        [[815., 667., 774., ..., 840., 703., 691.],\n",
       "         [523., 488., 652., ..., 713., 470., 686.],\n",
       "         [421., 399., 463., ..., 708., 502., 604.],\n",
       "         ...,\n",
       "         [526., 425., 513., ..., 688., 646., 633.],\n",
       "         [600., 440., 495., ..., 638., 797., 814.],\n",
       "         [453., 505., 383., ..., 672., 659., 708.]],\n",
       "\n",
       "        [[795., 806., 674., ..., 743., 782., 756.],\n",
       "         [582., 462., 485., ..., 417., 623., 575.],\n",
       "         [668., 590., 499., ..., 617., 551., 654.],\n",
       "         ...,\n",
       "         [515., 521., 571., ..., 721., 544., 839.],\n",
       "         [471., 458., 363., ..., 579., 562., 651.],\n",
       "         [439., 497., 447., ..., 646., 727., 724.]],\n",
       "\n",
       "        [[698., 523., 666., ..., 854., 788., 842.],\n",
       "         [506., 631., 515., ..., 544., 621., 602.],\n",
       "         [529., 665., 490., ..., 702., 669., 655.],\n",
       "         ...,\n",
       "         [489., 503., 471., ..., 664., 808., 610.],\n",
       "         [453., 545., 364., ..., 717., 622., 705.],\n",
       "         [559., 327., 535., ..., 580., 650., 609.]]],\n",
       "\n",
       "\n",
       "       [[[810., 835., 872., ..., 729., 873., 800.],\n",
       "         [474., 535., 494., ..., 509., 594., 480.],\n",
       "         [570., 529., 522., ..., 704., 551., 805.],\n",
       "         ...,\n",
       "         [484., 533., 492., ..., 660., 688., 591.],\n",
       "         [522., 466., 527., ..., 658., 625., 593.],\n",
       "         [494., 487., 463., ..., 656., 589., 610.]],\n",
       "\n",
       "        [[776., 707., 817., ..., 701., 800., 791.],\n",
       "         [567., 454., 475., ..., 595., 508., 544.],\n",
       "         [533., 626., 532., ..., 620., 737., 672.],\n",
       "         ...,\n",
       "         [471., 355., 447., ..., 503., 702., 689.],\n",
       "         [477., 502., 536., ..., 638., 476., 650.],\n",
       "         [554., 505., 427., ..., 826., 657., 610.]],\n",
       "\n",
       "        [[809., 881., 720., ..., 787., 734., 716.],\n",
       "         [661., 564., 488., ..., 775., 566., 463.],\n",
       "         [360., 502., 433., ..., 666., 621., 558.],\n",
       "         ...,\n",
       "         [467., 452., 484., ..., 567., 609., 453.],\n",
       "         [447., 514., 522., ..., 767., 760., 594.],\n",
       "         [521., 372., 514., ..., 686., 704., 564.]],\n",
       "\n",
       "        ...,\n",
       "\n",
       "        [[787., 654., 901., ..., 848., 795., 812.],\n",
       "         [491., 436., 689., ..., 666., 636., 656.],\n",
       "         [513., 548., 538., ..., 641., 748., 557.],\n",
       "         ...,\n",
       "         [379., 447., 490., ..., 711., 634., 708.],\n",
       "         [382., 599., 484., ..., 586., 654., 579.],\n",
       "         [425., 569., 412., ..., 693., 598., 609.]],\n",
       "\n",
       "        [[797., 875., 654., ..., 649., 739., 806.],\n",
       "         [555., 581., 510., ..., 506., 716., 497.],\n",
       "         [517., 538., 540., ..., 579., 696., 713.],\n",
       "         ...,\n",
       "         [451., 458., 347., ..., 745., 697., 639.],\n",
       "         [517., 429., 528., ..., 534., 576., 589.],\n",
       "         [461., 590., 441., ..., 575., 683., 617.]],\n",
       "\n",
       "        [[914., 839., 689., ..., 661., 707., 771.],\n",
       "         [553., 590., 597., ..., 547., 609., 651.],\n",
       "         [533., 484., 583., ..., 567., 588., 711.],\n",
       "         ...,\n",
       "         [450., 417., 403., ..., 592., 654., 601.],\n",
       "         [368., 464., 350., ..., 602., 562., 648.],\n",
       "         [495., 477., 452., ..., 678., 589., 672.]]],\n",
       "\n",
       "\n",
       "       [[[721., 636., 788., ..., 837., 776., 772.],\n",
       "         [612., 496., 645., ..., 589., 554., 473.],\n",
       "         [484., 541., 476., ..., 610., 616., 534.],\n",
       "         ...,\n",
       "         [426., 510., 431., ..., 616., 817., 659.],\n",
       "         [390., 406., 518., ..., 577., 608., 654.],\n",
       "         [492., 479., 494., ..., 461., 649., 624.]],\n",
       "\n",
       "        [[776., 703., 741., ..., 695., 748., 747.],\n",
       "         [522., 566., 705., ..., 516., 582., 619.],\n",
       "         [411., 404., 422., ..., 652., 643., 610.],\n",
       "         ...,\n",
       "         [398., 420., 427., ..., 695., 639., 668.],\n",
       "         [478., 460., 423., ..., 605., 658., 678.],\n",
       "         [461., 390., 415., ..., 721., 553., 764.]],\n",
       "\n",
       "        [[730., 691., 762., ..., 815., 717., 774.],\n",
       "         [470., 541., 645., ..., 538., 685., 547.],\n",
       "         [412., 535., 596., ..., 792., 673., 659.],\n",
       "         ...,\n",
       "         [469., 574., 531., ..., 682., 701., 710.],\n",
       "         [486., 532., 476., ..., 682., 622., 640.],\n",
       "         [460., 587., 599., ..., 688., 585., 568.]],\n",
       "\n",
       "        ...,\n",
       "\n",
       "        [[770., 687., 880., ..., 674., 817., 639.],\n",
       "         [512., 398., 655., ..., 613., 775., 622.],\n",
       "         [510., 603., 558., ..., 578., 703., 698.],\n",
       "         ...,\n",
       "         [428., 493., 384., ..., 812., 660., 587.],\n",
       "         [473., 452., 323., ..., 682., 606., 595.],\n",
       "         [444., 393., 437., ..., 652., 706., 597.]],\n",
       "\n",
       "        [[728., 782., 736., ..., 696., 844., 646.],\n",
       "         [444., 617., 534., ..., 545., 597., 493.],\n",
       "         [436., 420., 582., ..., 592., 528., 653.],\n",
       "         ...,\n",
       "         [445., 444., 583., ..., 668., 597., 578.],\n",
       "         [534., 486., 433., ..., 627., 618., 476.],\n",
       "         [447., 447., 500., ..., 699., 754., 797.]],\n",
       "\n",
       "        [[810., 768., 753., ..., 732., 789., 785.],\n",
       "         [443., 559., 472., ..., 573., 671., 618.],\n",
       "         [450., 552., 606., ..., 671., 639., 726.],\n",
       "         ...,\n",
       "         [488., 405., 420., ..., 639., 618., 616.],\n",
       "         [444., 502., 547., ..., 670., 714., 457.],\n",
       "         [481., 436., 519., ..., 661., 674., 598.]]]])"
      ]
     },
     "execution_count": 6,
     "metadata": {},
     "output_type": "execute_result"
    }
   ],
   "source": [
    "dp.data"
   ]
  },
  {
   "cell_type": "code",
   "execution_count": 7,
   "metadata": {},
   "outputs": [
    {
     "data": {
      "text/plain": [
       "array([[[[211.09319  , 241.5881   , 202.57956  , ...,   0.       ,\n",
       "            0.       ,   0.       ],\n",
       "         [  0.       ,   0.       ,   0.       , ...,   0.       ,\n",
       "            0.       ,   0.       ],\n",
       "         [  0.       ,   0.       ,   0.       , ...,   0.       ,\n",
       "            0.       ,   0.       ],\n",
       "         ...,\n",
       "         [  0.       ,   0.       ,   0.       , ...,   0.       ,\n",
       "            0.       ,   0.       ],\n",
       "         [  0.       ,   0.       ,   0.       , ...,   0.       ,\n",
       "            0.       ,   0.       ],\n",
       "         [  0.       ,   0.       ,   0.       , ...,   0.       ,\n",
       "            0.       ,   0.       ]],\n",
       "\n",
       "        [[145.28221  , 184.74947  , 126.6862   , ...,   0.       ,\n",
       "            0.       ,   0.       ],\n",
       "         [ 72.242386 ,   0.       ,   0.       , ...,   0.       ,\n",
       "            0.       ,   0.       ],\n",
       "         [  0.       ,   0.       ,   0.       , ...,   0.       ,\n",
       "            0.       ,   0.       ],\n",
       "         ...,\n",
       "         [  0.       ,   0.       ,   0.       , ...,   0.       ,\n",
       "            0.       ,   0.       ],\n",
       "         [  0.       ,   0.       ,   0.       , ...,   0.       ,\n",
       "            0.       ,   0.       ],\n",
       "         [  0.       ,   0.       ,   0.       , ...,   0.       ,\n",
       "            0.       ,   0.       ]],\n",
       "\n",
       "        [[125.96684  , 170.41125  ,  92.30199  , ...,   0.       ,\n",
       "            0.       ,   0.       ],\n",
       "         [  0.       ,   0.       ,   0.       , ...,   0.       ,\n",
       "            0.       ,   0.       ],\n",
       "         [  0.       ,   0.       ,   0.       , ...,   0.       ,\n",
       "            0.       ,   0.       ],\n",
       "         ...,\n",
       "         [  0.       ,   0.       ,   0.       , ...,   0.       ,\n",
       "            0.       ,   0.       ],\n",
       "         [  0.       ,   0.       ,   0.       , ...,   0.       ,\n",
       "            0.       ,   0.       ],\n",
       "         [  0.       ,   0.       ,   0.       , ...,   0.       ,\n",
       "            0.       ,   0.       ]],\n",
       "\n",
       "        ...,\n",
       "\n",
       "        [[149.92531  , 179.46878  , 185.55803  , ...,   0.       ,\n",
       "            0.       ,   0.       ],\n",
       "         [  0.       ,   0.       ,   8.626532 , ...,   0.       ,\n",
       "            0.       ,   0.       ],\n",
       "         [  0.       ,   0.       ,   0.       , ...,   0.       ,\n",
       "            0.       ,   0.       ],\n",
       "         ...,\n",
       "         [  0.       ,   0.       ,   0.       , ...,   0.       ,\n",
       "            0.       ,   0.       ],\n",
       "         [  0.       ,   0.       ,   0.       , ...,   0.       ,\n",
       "            0.       ,   0.       ],\n",
       "         [  0.       ,   0.       ,   0.       , ...,   0.       ,\n",
       "            0.       ,   0.       ]],\n",
       "\n",
       "        [[ 99.304214 , 192.84537  , 208.93007  , ...,   0.       ,\n",
       "          249.2628   , 117.508    ],\n",
       "         [ 40.392223 ,   0.       ,   0.       , ...,   0.       ,\n",
       "            0.       ,   0.       ],\n",
       "         [  0.       ,   0.       ,   0.       , ...,   0.       ,\n",
       "            0.       ,   0.       ],\n",
       "         ...,\n",
       "         [  0.       ,   0.       ,   0.       , ...,   0.       ,\n",
       "            0.       ,   0.       ],\n",
       "         [  0.       ,   0.       ,   0.       , ...,   0.       ,\n",
       "            0.       ,   0.       ],\n",
       "         [  0.       ,   0.       ,   0.       , ...,  13.578265 ,\n",
       "            0.       ,   0.       ]],\n",
       "\n",
       "        [[323.2496   , 110.79112  , 230.8763   , ..., 173.81714  ,\n",
       "          114.33398  ,   8.592553 ],\n",
       "         [ 34.344784 ,   0.       ,   0.       , ...,   0.       ,\n",
       "            0.       ,   0.       ],\n",
       "         [ 50.532684 ,   0.       ,   0.       , ...,   0.       ,\n",
       "            0.       ,   0.       ],\n",
       "         ...,\n",
       "         [  0.       ,   0.       ,   0.       , ...,   0.       ,\n",
       "            0.       ,   0.       ],\n",
       "         [  0.       ,   0.       ,   0.       , ...,   0.       ,\n",
       "            0.       ,   0.       ],\n",
       "         [  0.       ,   0.       ,   0.       , ...,   0.       ,\n",
       "            0.       ,   0.       ]]],\n",
       "\n",
       "\n",
       "       [[[240.41286  ,  60.848217 , 137.7217   , ...,   0.       ,\n",
       "            0.       ,   0.       ],\n",
       "         [  0.       ,   2.8524127,   0.       , ...,   0.       ,\n",
       "            0.       ,   0.       ],\n",
       "         [  0.       ,   0.       ,   0.       , ...,   0.       ,\n",
       "            0.       ,   0.       ],\n",
       "         ...,\n",
       "         [  0.       ,   0.       ,   0.       , ...,   0.       ,\n",
       "            0.       ,   0.       ],\n",
       "         [  0.       ,   0.       ,   0.       , ...,   0.       ,\n",
       "            0.       ,   0.       ],\n",
       "         [  0.       ,   0.       ,   0.       , ...,   0.       ,\n",
       "            0.       ,   0.       ]],\n",
       "\n",
       "        [[  0.       , 216.81769  ,   2.7608716, ...,   0.       ,\n",
       "            0.       ,   0.       ],\n",
       "         [  0.       ,   0.       ,   0.       , ...,   0.       ,\n",
       "            0.       ,   0.       ],\n",
       "         [  0.       ,   0.       ,   0.       , ...,   0.       ,\n",
       "            0.       ,   0.       ],\n",
       "         ...,\n",
       "         [  0.       ,   0.       ,   0.       , ...,   0.       ,\n",
       "            0.       ,   0.       ],\n",
       "         [  0.       ,   0.       ,   0.       , ...,   0.       ,\n",
       "            0.       ,   0.       ],\n",
       "         [  0.       ,   0.       ,   0.       , ...,   0.       ,\n",
       "            0.       ,   0.       ]],\n",
       "\n",
       "        [[149.54816  , 272.99704  ,  33.896957 , ...,   0.       ,\n",
       "            0.       ,   0.       ],\n",
       "         [  0.       ,   0.       ,   0.       , ...,   0.       ,\n",
       "            0.       ,   0.       ],\n",
       "         [  0.       ,   0.       ,   0.       , ...,   0.       ,\n",
       "            0.       ,   0.       ],\n",
       "         ...,\n",
       "         [  0.       ,   0.       ,   0.       , ...,   0.       ,\n",
       "            0.       ,   0.       ],\n",
       "         [  0.       ,   0.       ,   0.       , ...,   0.       ,\n",
       "            0.       ,   0.       ],\n",
       "         [  0.       ,   0.       ,   0.       , ...,   0.       ,\n",
       "            0.       ,   0.       ]],\n",
       "\n",
       "        ...,\n",
       "\n",
       "        [[ 46.09715  , 238.61037  , 131.63899  , ...,   0.       ,\n",
       "            0.       ,   0.       ],\n",
       "         [  0.       ,   0.       ,   0.       , ...,   0.       ,\n",
       "            0.       ,   0.       ],\n",
       "         [  0.       ,   0.       ,   0.       , ...,   0.       ,\n",
       "            0.       ,   0.       ],\n",
       "         ...,\n",
       "         [  0.       ,   0.       ,   0.       , ...,   0.       ,\n",
       "            0.       ,   0.       ],\n",
       "         [  0.       ,   0.       ,   0.       , ...,   0.       ,\n",
       "            0.       ,   0.       ],\n",
       "         [  0.       ,   0.       ,   0.       , ...,   0.       ,\n",
       "            0.       ,   0.       ]],\n",
       "\n",
       "        [[ 83.92326  , 151.45007  , 184.50578  , ...,   0.       ,\n",
       "            0.       ,   0.       ],\n",
       "         [  0.       ,   0.       ,  35.55362  , ...,   0.       ,\n",
       "            0.       ,   0.       ],\n",
       "         [  0.       ,   0.       ,   0.       , ...,   0.       ,\n",
       "            0.       ,   0.       ],\n",
       "         ...,\n",
       "         [  0.       ,   0.       ,   0.       , ...,   0.       ,\n",
       "            0.       ,   0.       ],\n",
       "         [  0.       ,   0.       ,   0.       , ...,   0.       ,\n",
       "            0.       ,   0.       ],\n",
       "         [  0.       ,   0.       ,   0.       , ...,   0.       ,\n",
       "            0.       ,   0.       ]],\n",
       "\n",
       "        [[194.05373  , 183.54004  , 101.51519  , ...,   0.       ,\n",
       "            0.       ,   0.       ],\n",
       "         [  0.       ,   0.       ,   0.       , ...,   0.       ,\n",
       "            0.       ,   0.       ],\n",
       "         [  0.       ,   0.       ,   0.       , ...,   0.       ,\n",
       "            0.       ,   0.       ],\n",
       "         ...,\n",
       "         [  0.       ,   0.       ,   0.       , ...,   0.       ,\n",
       "            0.       ,   0.       ],\n",
       "         [  0.       ,   0.       ,   0.       , ...,   0.       ,\n",
       "            0.       ,   0.       ],\n",
       "         [  0.       ,   0.       ,   0.       , ...,   0.       ,\n",
       "            0.       ,   0.       ]]],\n",
       "\n",
       "\n",
       "       [[[102.04241  , 172.46219  , 145.30493  , ...,   0.       ,\n",
       "            0.       ,   0.       ],\n",
       "         [  0.       ,   0.       ,   0.       , ...,   0.       ,\n",
       "            0.       ,   0.       ],\n",
       "         [  0.       ,   0.       ,   0.       , ...,   0.       ,\n",
       "            0.       ,   0.       ],\n",
       "         ...,\n",
       "         [  0.       ,   0.       ,   0.       , ...,   0.       ,\n",
       "            0.       ,   0.       ],\n",
       "         [  0.       ,   0.       ,   0.       , ...,   0.       ,\n",
       "            0.       ,   0.       ],\n",
       "         [  0.       ,   0.       ,   0.       , ...,   0.       ,\n",
       "            0.       ,   0.       ]],\n",
       "\n",
       "        [[  0.       ,   0.       ,  78.18405  , ...,   0.       ,\n",
       "            0.       ,   0.       ],\n",
       "         [  0.       ,   0.       ,   0.       , ...,   0.       ,\n",
       "            0.       ,   0.       ],\n",
       "         [  0.       ,   0.       ,   0.       , ...,   0.       ,\n",
       "            0.       ,   0.       ],\n",
       "         ...,\n",
       "         [  0.       ,   0.       ,   0.       , ...,   0.       ,\n",
       "            0.       ,   0.       ],\n",
       "         [  0.       ,   0.       ,   0.       , ...,   0.       ,\n",
       "            0.       ,   0.       ],\n",
       "         [  0.       ,   0.       ,   0.       , ...,   0.       ,\n",
       "            0.       ,   0.       ]],\n",
       "\n",
       "        [[  0.       ,   0.       , 153.62314  , ...,   0.       ,\n",
       "            0.       ,   0.       ],\n",
       "         [  0.       ,   0.       ,   0.       , ...,   0.       ,\n",
       "            0.       ,   0.       ],\n",
       "         [  0.       ,   0.       ,   0.       , ...,   0.       ,\n",
       "            0.       ,   0.       ],\n",
       "         ...,\n",
       "         [  0.       ,   0.       ,   0.       , ...,   0.       ,\n",
       "            0.       ,   0.       ],\n",
       "         [  0.       ,   0.       ,   0.       , ...,   0.       ,\n",
       "            0.       ,   0.       ],\n",
       "         [  0.       ,   0.       ,   0.       , ...,   0.       ,\n",
       "            0.       ,   0.       ]],\n",
       "\n",
       "        ...,\n",
       "\n",
       "        [[208.08076  ,   0.       , 142.45067  , ...,   0.       ,\n",
       "            0.       ,   0.       ],\n",
       "         [  0.       ,   0.       ,   0.       , ...,   0.       ,\n",
       "            0.       ,   0.       ],\n",
       "         [  0.       ,   0.       ,   0.       , ...,   0.       ,\n",
       "            0.       ,   0.       ],\n",
       "         ...,\n",
       "         [  0.       ,   0.       ,   0.       , ...,   0.       ,\n",
       "            0.       ,   0.       ],\n",
       "         [  0.       ,   0.       ,   0.       , ...,   0.       ,\n",
       "            0.       ,   0.       ],\n",
       "         [  0.       ,   0.       ,   0.       , ...,   0.       ,\n",
       "            0.       ,   0.       ]],\n",
       "\n",
       "        [[235.85178  , 174.31383  , 181.24028  , ...,   0.       ,\n",
       "            0.       ,   0.       ],\n",
       "         [  0.       ,   8.307598 ,   0.       , ...,   0.       ,\n",
       "            0.       ,   0.       ],\n",
       "         [  0.       ,   0.       ,   0.       , ...,   0.       ,\n",
       "            0.       ,   0.       ],\n",
       "         ...,\n",
       "         [  0.       ,   0.       ,   0.       , ...,   0.       ,\n",
       "            0.       ,   0.       ],\n",
       "         [  0.       ,   0.       ,   0.       , ...,   0.       ,\n",
       "            0.       ,   0.       ],\n",
       "         [  0.       ,   0.       ,   0.       , ...,   0.       ,\n",
       "            0.       ,   0.       ]],\n",
       "\n",
       "        [[124.38093  , 164.8525   , 195.79875  , ...,   0.       ,\n",
       "            0.       ,   0.       ],\n",
       "         [  0.       ,   0.       ,   0.       , ...,   0.       ,\n",
       "            0.       ,   0.       ],\n",
       "         [  0.       ,   0.       ,   0.       , ...,   0.       ,\n",
       "            0.       ,   0.       ],\n",
       "         ...,\n",
       "         [  0.       ,   0.       ,   0.       , ...,   0.       ,\n",
       "            0.       ,   0.       ],\n",
       "         [  0.       ,   0.       ,   0.       , ...,   0.       ,\n",
       "            0.       ,   0.       ],\n",
       "         [  0.       ,   0.       ,   0.       , ...,   0.       ,\n",
       "            0.       ,   0.       ]]],\n",
       "\n",
       "\n",
       "       ...,\n",
       "\n",
       "\n",
       "       [[[142.95877  , 107.344376 , 182.11829  , ...,   0.       ,\n",
       "            0.       ,   0.       ],\n",
       "         [  0.       ,   0.       ,   0.       , ...,   0.       ,\n",
       "            0.       ,   0.       ],\n",
       "         [  0.       ,   0.       ,   0.       , ...,   0.       ,\n",
       "            0.       ,   0.       ],\n",
       "         ...,\n",
       "         [  0.       ,   0.       ,   0.       , ...,   0.       ,\n",
       "            0.       ,   0.       ],\n",
       "         [  0.       ,   0.       ,   0.       , ...,   0.       ,\n",
       "            0.       ,   0.       ],\n",
       "         [  0.       ,   0.       ,   0.       , ...,   0.       ,\n",
       "            0.       ,   0.       ]],\n",
       "\n",
       "        [[206.2944   ,  79.640854 , 174.3367   , ...,   0.       ,\n",
       "            0.       ,   0.       ],\n",
       "         [  0.       ,   0.       ,   0.       , ...,   0.       ,\n",
       "            0.       ,   0.       ],\n",
       "         [  0.       ,   0.       ,   0.       , ...,   0.       ,\n",
       "            0.       ,   0.       ],\n",
       "         ...,\n",
       "         [  0.       ,   0.       ,   0.       , ...,   0.       ,\n",
       "            0.       ,   0.       ],\n",
       "         [  0.       ,   0.       ,   0.       , ...,   0.       ,\n",
       "            0.       ,   0.       ],\n",
       "         [  0.       ,   0.       ,   0.       , ...,   0.       ,\n",
       "            0.       ,   0.       ]],\n",
       "\n",
       "        [[216.88902  , 105.25172  , 122.979904 , ...,   0.       ,\n",
       "            0.       ,   0.       ],\n",
       "         [  0.       ,   0.       ,   0.       , ...,   0.       ,\n",
       "            0.       ,   0.       ],\n",
       "         [  0.       ,   0.       ,   0.       , ...,   0.       ,\n",
       "            0.       ,   0.       ],\n",
       "         ...,\n",
       "         [  0.       ,   0.       ,   0.       , ...,   0.       ,\n",
       "            0.       ,   0.       ],\n",
       "         [  0.       ,   0.       ,   0.       , ...,   0.       ,\n",
       "            0.       ,   0.       ],\n",
       "         [  0.       ,   0.       ,   0.       , ...,   0.       ,\n",
       "            0.       ,   0.       ]],\n",
       "\n",
       "        ...,\n",
       "\n",
       "        [[213.97832  ,  65.41962  , 171.3052   , ...,   0.       ,\n",
       "            0.       ,   0.       ],\n",
       "         [  0.       ,   0.       ,   0.       , ...,   0.       ,\n",
       "            0.       ,   0.       ],\n",
       "         [  0.       ,   0.       ,   0.       , ...,   0.       ,\n",
       "            0.       ,   0.       ],\n",
       "         ...,\n",
       "         [  0.       ,   0.       ,   0.       , ...,   0.       ,\n",
       "            0.       ,   0.       ],\n",
       "         [  0.       ,   0.       ,   0.       , ...,   0.       ,\n",
       "            0.       , 113.31323  ],\n",
       "         [  0.       ,   0.       ,   0.       , ...,   0.       ,\n",
       "            0.       ,   7.4363685]],\n",
       "\n",
       "        [[188.98817  , 199.46687  ,  66.42661  , ...,   0.       ,\n",
       "            0.       ,   0.       ],\n",
       "         [  0.       ,   0.       ,   0.       , ...,   0.       ,\n",
       "            0.       ,   0.       ],\n",
       "         [  0.       ,   0.       ,   0.       , ...,   0.       ,\n",
       "            0.       ,   0.       ],\n",
       "         ...,\n",
       "         [  0.       ,   0.       ,   0.       , ...,   0.       ,\n",
       "            0.       ,   0.       ],\n",
       "         [  0.       ,   0.       ,   0.       , ...,   0.       ,\n",
       "            0.       ,   0.       ],\n",
       "         [  0.       ,   0.       ,   0.       , ...,   0.       ,\n",
       "            0.       ,   0.       ]],\n",
       "\n",
       "        [[  0.       ,   0.       ,   0.       , ...,   0.       ,\n",
       "            0.       ,   0.       ],\n",
       "         [  0.       ,   0.       ,   0.       , ...,   0.       ,\n",
       "            0.       ,   0.       ],\n",
       "         [  0.       ,   0.       ,   0.       , ...,   0.       ,\n",
       "            0.       ,   0.       ],\n",
       "         ...,\n",
       "         [  0.       ,   0.       ,   0.       , ...,   0.       ,\n",
       "            0.       ,   0.       ],\n",
       "         [  0.       ,   0.       ,   0.       , ...,   0.       ,\n",
       "            0.       ,   0.       ],\n",
       "         [  0.       ,   0.       ,   0.       , ...,   0.       ,\n",
       "            0.       ,   0.       ]]],\n",
       "\n",
       "\n",
       "       [[[185.15843  , 209.54364  , 245.31703  , ...,   0.       ,\n",
       "            0.       ,   0.       ],\n",
       "         [  0.       ,   0.       ,   0.       , ...,   0.       ,\n",
       "            0.       ,   0.       ],\n",
       "         [  0.       ,   0.       ,   0.       , ...,   0.       ,\n",
       "            0.       ,   0.       ],\n",
       "         ...,\n",
       "         [  0.       ,   0.       ,   0.       , ...,   0.       ,\n",
       "            0.       ,   0.       ],\n",
       "         [  0.       ,   0.       ,   0.       , ...,   0.       ,\n",
       "            0.       ,   0.       ],\n",
       "         [  0.       ,   0.       ,   0.       , ...,   0.       ,\n",
       "            0.       ,   0.       ]],\n",
       "\n",
       "        [[163.21098  ,  93.565796 , 202.27885  , ...,   0.       ,\n",
       "            0.       ,   0.       ],\n",
       "         [  0.       ,   0.       ,   0.       , ...,   0.       ,\n",
       "            0.       ,   0.       ],\n",
       "         [  0.       ,   0.       ,   0.       , ...,   0.       ,\n",
       "            0.       ,   0.       ],\n",
       "         ...,\n",
       "         [  0.       ,   0.       ,   0.       , ...,   0.       ,\n",
       "            0.       ,   0.       ],\n",
       "         [  0.       ,   0.       ,   0.       , ...,   0.       ,\n",
       "            0.       ,   0.       ],\n",
       "         [  0.       ,   0.       ,   0.       , ...,   0.       ,\n",
       "            0.       ,   0.       ]],\n",
       "\n",
       "        [[198.71713  , 270.10617  , 107.886925 , ...,   0.       ,\n",
       "            0.       ,   0.       ],\n",
       "         [ 50.652374 ,   0.       ,   0.       , ...,   0.       ,\n",
       "            0.       ,   0.       ],\n",
       "         [  0.       ,   0.       ,   0.       , ...,   0.       ,\n",
       "            0.       ,   0.       ],\n",
       "         ...,\n",
       "         [  0.       ,   0.       ,   0.       , ...,   0.       ,\n",
       "            0.       ,   0.       ],\n",
       "         [  0.       ,   0.       ,   0.       , ...,   0.       ,\n",
       "            0.       ,   0.       ],\n",
       "         [  0.       ,   0.       ,   0.       , ...,   0.       ,\n",
       "            0.       ,   0.       ]],\n",
       "\n",
       "        ...,\n",
       "\n",
       "        [[181.01476  ,  47.466995 , 293.37482  , ..., 147.7756   ,\n",
       "           95.35841  , 112.65044  ],\n",
       "         [  0.       ,   0.       ,  81.41984  , ...,   0.       ,\n",
       "            0.       ,   0.       ],\n",
       "         [  0.       ,   0.       ,   0.       , ...,   0.       ,\n",
       "            0.       ,   0.       ],\n",
       "         ...,\n",
       "         [  0.       ,   0.       ,   0.       , ...,   0.       ,\n",
       "            0.       ,   0.       ],\n",
       "         [  0.       ,   0.       ,   0.       , ...,   0.       ,\n",
       "            0.       ,   0.       ],\n",
       "         [  0.       ,   0.       ,   0.       , ...,   0.       ,\n",
       "            0.       ,   0.       ]],\n",
       "\n",
       "        [[194.18385  , 271.6735   ,  49.654816 , ...,   0.       ,\n",
       "            0.       ,   0.       ],\n",
       "         [  0.       ,   0.       ,   0.       , ...,   0.       ,\n",
       "            0.       ,   0.       ],\n",
       "         [  0.       ,   0.       ,   0.       , ...,   0.       ,\n",
       "            0.       ,   0.       ],\n",
       "         ...,\n",
       "         [  0.       ,   0.       ,   0.       , ...,   0.       ,\n",
       "            0.       ,   0.       ],\n",
       "         [  0.       ,   0.       ,   0.       , ...,   0.       ,\n",
       "            0.       ,   0.       ],\n",
       "         [  0.       ,   0.       ,   0.       , ...,   0.       ,\n",
       "            0.       ,   0.       ]],\n",
       "\n",
       "        [[304.89124  , 229.38255  ,  78.3683   , ...,   0.       ,\n",
       "            0.       ,   0.       ],\n",
       "         [  0.       ,   0.       ,   0.       , ...,   0.       ,\n",
       "            0.       ,   0.       ],\n",
       "         [  0.       ,   0.       ,   0.       , ...,   0.       ,\n",
       "            0.       ,   0.       ],\n",
       "         ...,\n",
       "         [  0.       ,   0.       ,   0.       , ...,   0.       ,\n",
       "            0.       ,   0.       ],\n",
       "         [  0.       ,   0.       ,   0.       , ...,   0.       ,\n",
       "            0.       ,   0.       ],\n",
       "         [  0.       ,   0.       ,   0.       , ...,   0.       ,\n",
       "            0.       ,   0.       ]]],\n",
       "\n",
       "\n",
       "       [[[115.52307  ,  29.89286  , 180.63554  , ...,   0.       ,\n",
       "            0.       ,   0.       ],\n",
       "         [  0.       ,   0.       ,   0.       , ...,   0.       ,\n",
       "            0.       ,   0.       ],\n",
       "         [  0.       ,   0.       ,   0.       , ...,   0.       ,\n",
       "            0.       ,   0.       ],\n",
       "         ...,\n",
       "         [  0.       ,   0.       ,   0.       , ...,   0.       ,\n",
       "            0.       ,   0.       ],\n",
       "         [  0.       ,   0.       ,   0.       , ...,   0.       ,\n",
       "            0.       ,   0.       ],\n",
       "         [  0.       ,   0.       ,   0.       , ...,   0.       ,\n",
       "            0.       ,   0.       ]],\n",
       "\n",
       "        [[172.81311  ,  99.20134  , 135.98065  , ...,   0.       ,\n",
       "            0.       ,   0.       ],\n",
       "         [  0.       ,   0.       ,   0.       , ...,   0.       ,\n",
       "            0.       ,   0.       ],\n",
       "         [  0.       ,   0.       ,   0.       , ...,   0.       ,\n",
       "            0.       ,   0.       ],\n",
       "         ...,\n",
       "         [  0.       ,   0.       ,   0.       , ...,   0.       ,\n",
       "            0.       ,   0.       ],\n",
       "         [  0.       ,   0.       ,   0.       , ...,   0.       ,\n",
       "            0.       ,   0.       ],\n",
       "         [  0.       ,   0.       ,   0.       , ...,   0.       ,\n",
       "            0.       ,   0.       ]],\n",
       "\n",
       "        [[  0.       ,  89.87191  , 159.60086  , ...,   0.       ,\n",
       "            0.       ,   0.       ],\n",
       "         [  0.       ,   0.       ,   0.       , ...,   0.       ,\n",
       "            0.       ,   0.       ],\n",
       "         [  0.       ,   0.       ,   0.       , ...,   0.       ,\n",
       "            0.       ,   0.       ],\n",
       "         ...,\n",
       "         [  0.       ,   0.       ,   0.       , ...,   0.       ,\n",
       "            0.       ,   0.       ],\n",
       "         [  0.       ,   0.       ,   0.       , ...,   0.       ,\n",
       "            0.       ,   0.       ],\n",
       "         [  0.       ,   0.       ,   0.       , ...,   0.       ,\n",
       "            0.       ,   0.       ]],\n",
       "\n",
       "        ...,\n",
       "\n",
       "        [[166.90044  ,  83.38142  , 275.3467   , ...,   0.       ,\n",
       "            0.       ,   0.       ],\n",
       "         [  0.       ,   0.       ,  50.393658 , ...,   0.       ,\n",
       "            0.       ,   0.       ],\n",
       "         [  0.       ,   0.       ,   0.       , ...,   0.       ,\n",
       "            0.       ,   0.       ],\n",
       "         ...,\n",
       "         [  0.       ,   0.       ,   0.       , ...,   0.       ,\n",
       "            0.       ,   0.       ],\n",
       "         [  0.       ,   0.       ,   0.       , ...,   0.       ,\n",
       "            0.       ,   0.       ],\n",
       "         [  0.       ,   0.       ,   0.       , ...,   0.       ,\n",
       "            0.       ,   0.       ]],\n",
       "\n",
       "        [[118.09654  , 171.57445  , 124.532906 , ...,   0.       ,\n",
       "            0.       ,   0.       ],\n",
       "         [  0.       ,   0.       ,   0.       , ...,   0.       ,\n",
       "            0.       ,   0.       ],\n",
       "         [  0.       ,   0.       ,   0.       , ...,   0.       ,\n",
       "            0.       ,   0.       ],\n",
       "         ...,\n",
       "         [  0.       ,   0.       ,   0.       , ...,   0.       ,\n",
       "            0.       ,   0.       ],\n",
       "         [  0.       ,   0.       ,   0.       , ...,   0.       ,\n",
       "            0.       ,   0.       ],\n",
       "         [  0.       ,   0.       ,   0.       , ...,   0.       ,\n",
       "            0.       ,   0.       ]],\n",
       "\n",
       "        [[208.00914  , 165.48663  , 149.44429  , ...,   0.       ,\n",
       "            0.       ,  87.42126  ],\n",
       "         [  0.       ,   0.       ,   0.       , ...,   0.       ,\n",
       "            0.       ,   0.       ],\n",
       "         [  0.       ,   0.       ,   0.       , ...,   0.       ,\n",
       "            0.       ,   0.       ],\n",
       "         ...,\n",
       "         [  0.       ,   0.       ,   0.       , ...,   0.       ,\n",
       "            0.       ,   0.       ],\n",
       "         [  0.       ,   0.       ,   0.       , ...,   0.       ,\n",
       "            0.       ,   0.       ],\n",
       "         [  0.       ,   0.       ,   0.       , ...,   0.       ,\n",
       "            0.       ,   0.       ]]]], dtype=float32)"
      ]
     },
     "execution_count": 7,
     "metadata": {},
     "output_type": "execute_result"
    }
   ],
   "source": [
    "dp_rb.data.compute()"
   ]
  },
  {
   "cell_type": "markdown",
   "metadata": {},
   "source": [
    "Plot the background subtracted data"
   ]
  },
  {
   "cell_type": "code",
   "execution_count": 8,
   "metadata": {},
   "outputs": [
    {
     "name": "stdout",
     "output_type": "stream",
     "text": [
      "[########################################] | 100% Completed |  0.8s\n"
     ]
    },
    {
     "data": {
      "image/png": "[encoded data removed]",
      "text/plain": [
       "<Figure size 432x414.545 with 2 Axes>"
      ]
     },
     "metadata": {
      "needs_background": "light"
     },
     "output_type": "display_data"
    },
    {
     "data": {
      "image/png": "[encoded data removed]",
      "text/plain": [
       "<Figure size 432x392.727 with 2 Axes>"
      ]
     },
     "metadata": {
      "needs_background": "light"
     },
     "output_type": "display_data"
    }
   ],
   "source": [
    "dp_rb.plot(cmap='magma_r')\n"
   ]
  },
  {
   "cell_type": "markdown",
   "metadata": {},
   "source": [
    "Find the position of the direct beam in the background subtracted data."
   ]
  },
  {
   "cell_type": "code",
   "execution_count": 9,
   "metadata": {},
   "outputs": [],
   "source": [
    "shifts = dp_rb.center_direct_beam(method='cross_correlate',\n",
    "                                  half_square_width=15,\n",
    "                                  return_shifts=True,\n",
    "                                  radius_start=2,\n",
    "                                  radius_finish=6)"
   ]
  },
  {
   "cell_type": "code",
   "execution_count": null,
   "metadata": {},
   "outputs": [],
   "source": []
  },
  {
   "cell_type": "code",
   "execution_count": 10,
   "metadata": {},
   "outputs": [
    {
     "name": "stdout",
     "output_type": "stream",
     "text": [
      "[########################################] | 100% Completed | 24.7s\n"
     ]
    }
   ],
   "source": [
    "# this step is likely to be quiet slow\n",
    "shifts.compute()"
   ]
  },
  {
   "cell_type": "markdown",
   "metadata": {},
   "source": [
    "Apply the same shifts to the raw data."
   ]
  },
  {
   "cell_type": "code",
   "execution_count": null,
   "metadata": {},
   "outputs": [],
   "source": [
    "dp_rb.align2D(shifts=shifts, crop=False)"
   ]
  },
  {
   "cell_type": "markdown",
   "metadata": {},
   "source": [
    "Set calibrations"
   ]
  },
  {
   "cell_type": "code",
   "execution_count": null,
   "metadata": {},
   "outputs": [],
   "source": [
    "scale = 0.03246*2 \n",
    "scale_real = 3.03*2\n",
    "dp.set_diffraction_calibration(scale)\n",
    "dp.set_scan_calibration(scale_real)"
   ]
  },
  {
   "cell_type": "code",
   "execution_count": null,
   "metadata": {},
   "outputs": [],
   "source": []
  },
  {
   "cell_type": "code",
   "execution_count": null,
   "metadata": {},
   "outputs": [],
   "source": [
    "# see https://github.com/pyxem/pyxem/issues/717 for why have to do this\n",
    "dp_rb.compute()\n",
    "dp_rb = pxm.signals.ElectronDiffraction2D(dp_rb)\n",
    "\n",
    "dp_rb.set_diffraction_calibration(scale)\n",
    "dp_rb.set_scan_calibration(scale_real)"
   ]
  },
  {
   "cell_type": "markdown",
   "metadata": {},
   "source": [
    "<a id='vdf'></a>\n",
    "##  2. Virtual Image Based Segmentation"
   ]
  },
  {
   "cell_type": "markdown",
   "metadata": {},
   "source": [
    "### 2.1. Peak Finding & Refinement"
   ]
  },
  {
   "cell_type": "markdown",
   "metadata": {},
   "source": [
    "Find all diffraction peaks for all PED patterns. \n",
    "The parameters were found by interactive peak finding:\n",
    "\n",
    "`peaks = dp_rb.find_peaks_interactive(imshow_kwargs={'cmap': 'magma_r'})`"
   ]
  },
  {
   "cell_type": "code",
   "execution_count": null,
   "metadata": {},
   "outputs": [],
   "source": [
    "import hyperspy\n",
    "hyperspy.__version__"
   ]
  },
  {
   "cell_type": "code",
   "execution_count": null,
   "metadata": {},
   "outputs": [],
   "source": [
    "#This is broken, see https://github.com/hyperspy/hyperspy/issues/262\n",
    "peaks = dp_rb.find_peaks(method='difference_of_gaussian', \n",
    "                         min_sigma=0.7,\n",
    "                         max_sigma=10,\n",
    "                         num_sigma=20, \n",
    "                         threshold=0.046, \n",
    "                         overlap=0.5, \n",
    "                         log_scale=False,\n",
    "                         exclude_border=True)"
   ]
  },
  {
   "cell_type": "markdown",
   "metadata": {},
   "source": [
    "Visualise the number of diffraction peaks found at each probe position"
   ]
  },
  {
   "cell_type": "code",
   "execution_count": null,
   "metadata": {},
   "outputs": [],
   "source": [
    "peaks"
   ]
  },
  {
   "cell_type": "code",
   "execution_count": null,
   "metadata": {},
   "outputs": [],
   "source": [
    "diff_map = peaks.get_diffracting_pixels_map()\n",
    "diff_map.plot()"
   ]
  },
  {
   "cell_type": "markdown",
   "metadata": {},
   "source": [
    "Exclude peaks too close to the detector edge for sub-pixel refinement. "
   ]
  },
  {
   "cell_type": "code",
   "execution_count": null,
   "metadata": {},
   "outputs": [],
   "source": [
    "peaks_filtered = peaks.filter_detector_edge(exclude_width=2)"
   ]
  },
  {
   "cell_type": "markdown",
   "metadata": {},
   "source": [
    "Refine the peak positions using center of mass"
   ]
  },
  {
   "cell_type": "code",
   "execution_count": null,
   "metadata": {
    "scrolled": true
   },
   "outputs": [],
   "source": [
    "from pyxem.generators.subpixelrefinement_generator import SubpixelrefinementGenerator\n",
    "from pyxem.signals.diffraction_vectors import DiffractionVectors\n",
    "\n",
    "\n",
    "refine_gen = SubpixelrefinementGenerator(dp_rb, peaks_filtered)\n",
    "\n",
    "peaks_refined = DiffractionVectors(refine_gen.center_of_mass_method(square_size=4))\n",
    "\n",
    "peaks_refined.axes_manager.set_signal_dimension(0)"
   ]
  },
  {
   "cell_type": "markdown",
   "metadata": {},
   "source": [
    "### 2.2. Determine Unique Peaks"
   ]
  },
  {
   "cell_type": "markdown",
   "metadata": {},
   "source": [
    "Determine the unique diffraction peaks by clustering"
   ]
  },
  {
   "cell_type": "code",
   "execution_count": null,
   "metadata": {},
   "outputs": [],
   "source": [
    "distance_threshold = scale*0.89\n",
    "min_samples = 10\n",
    "\n",
    "unique_peaks = peaks_refined.get_unique_vectors(method='DBSCAN',\n",
    "                                                distance_threshold=distance_threshold,\n",
    "                                                min_samples=min_samples)\n",
    "print(np.shape(unique_peaks.data)[0], ' unique vectors were found.')"
   ]
  },
  {
   "cell_type": "markdown",
   "metadata": {},
   "source": [
    "Visualise the detected unique peaks by plotting them on the maximum of the signal. "
   ]
  },
  {
   "cell_type": "code",
   "execution_count": null,
   "metadata": {},
   "outputs": [],
   "source": [
    "radius_px = dp_rb.axes_manager.signal_shape[0]/2\n",
    "reciprocal_radius = radius_px * scale"
   ]
  },
  {
   "cell_type": "code",
   "execution_count": null,
   "metadata": {},
   "outputs": [],
   "source": [
    "unique_peaks.plot_diffraction_vectors(\n",
    "    method='DBSCAN',\n",
    "    unique_vectors=unique_peaks,\n",
    "    distance_threshold=distance_threshold,\n",
    "    xlim=reciprocal_radius,\n",
    "    ylim=reciprocal_radius,\n",
    "    min_samples=min_samples,\n",
    "    image_to_plot_on=dp_rb.max(),\n",
    "    image_cmap='magma_r',\n",
    "    plot_label_colors=False)"
   ]
  },
  {
   "cell_type": "markdown",
   "metadata": {},
   "source": [
    "Visualise both the clusters and the unique peaks obtained after DBSCAN clustering. \n",
    "\n",
    "*NB The cluster colors are randomly generated, so run it again if it is hard to discern two close clusters.*"
   ]
  },
  {
   "cell_type": "code",
   "execution_count": null,
   "metadata": {},
   "outputs": [],
   "source": [
    "peaks_refined.plot_diffraction_vectors(\n",
    "    method='DBSCAN',\n",
    "    xlim=reciprocal_radius, \n",
    "    ylim=reciprocal_radius,\n",
    "    unique_vectors=unique_peaks, \n",
    "    distance_threshold=distance_threshold,\n",
    "    min_samples=min_samples, \n",
    "    image_to_plot_on=dp_rb.max(), \n",
    "    image_cmap='gray_r',\n",
    "    plot_label_colors=True, \n",
    "    distance_threshold_all=scale*0.1)"
   ]
  },
  {
   "cell_type": "markdown",
   "metadata": {},
   "source": [
    "Filter the unique vectors by magnitude in order to exclude the direct beam from the following analysis"
   ]
  },
  {
   "cell_type": "code",
   "execution_count": null,
   "metadata": {},
   "outputs": [],
   "source": [
    "Gs = unique_peaks.filter_magnitude(min_magnitude=10*scale,\n",
    "                                   max_magnitude=np.inf)\n",
    "print(np.shape(Gs)[0], ' unique vectors.')"
   ]
  },
  {
   "cell_type": "markdown",
   "metadata": {},
   "source": [
    "Plot the unique vectors"
   ]
  },
  {
   "cell_type": "code",
   "execution_count": null,
   "metadata": {},
   "outputs": [],
   "source": [
    "Gs.plot_diffraction_vectors(unique_vectors=Gs,\n",
    "                            distance_threshold=distance_threshold,\n",
    "                            xlim=reciprocal_radius,\n",
    "                            ylim=reciprocal_radius,\n",
    "                            min_samples=min_samples,\n",
    "                            image_to_plot_on=dp_rb.max(),\n",
    "                            image_cmap='magma',\n",
    "                            plot_label_colors=False)"
   ]
  },
  {
   "cell_type": "markdown",
   "metadata": {},
   "source": [
    "Optionally save and load the unique peaks"
   ]
  },
  {
   "cell_type": "code",
   "execution_count": null,
   "metadata": {},
   "outputs": [],
   "source": [
    "np.save('peaks.npy', Gs.data)"
   ]
  },
  {
   "cell_type": "code",
   "execution_count": null,
   "metadata": {},
   "outputs": [],
   "source": [
    "Gs = np.load('peaks.npy', allow_pickle=True)\n",
    "Gs = pxm.DiffractionVectors(Gs)\n",
    "Gs.axes_manager.set_signal_dimension(0)"
   ]
  },
  {
   "cell_type": "markdown",
   "metadata": {},
   "source": [
    "### 2.3. Virtual Imaging & Segmentation"
   ]
  },
  {
   "cell_type": "markdown",
   "metadata": {},
   "source": [
    "Calculate VDF images for all unique peaks"
   ]
  },
  {
   "cell_type": "code",
   "execution_count": null,
   "metadata": {},
   "outputs": [],
   "source": [
    "from pyxem.generators.vdf_generator import VDFGenerator\n",
    "\n",
    "radius=scale*2\n",
    "\n",
    "vdfgen = VDFGenerator(dp_rb, Gs)\n",
    "VDFs = vdfgen.get_vector_vdf_images(radius=radius)"
   ]
  },
  {
   "cell_type": "markdown",
   "metadata": {},
   "source": [
    "Plot the VDF images for inspection"
   ]
  },
  {
   "cell_type": "code",
   "execution_count": null,
   "metadata": {},
   "outputs": [],
   "source": [
    "VDFs.plot(cmap='magma', scalebar=False)"
   ]
  },
  {
   "cell_type": "markdown",
   "metadata": {},
   "source": [
    "First find adequate parameters by looking at watershed segmentation of a single VDF image."
   ]
  },
  {
   "cell_type": "code",
   "execution_count": null,
   "metadata": {},
   "outputs": [],
   "source": [
    "from pyxem.utils.segment_utils import separate_watershed"
   ]
  },
  {
   "cell_type": "code",
   "execution_count": null,
   "metadata": {},
   "outputs": [],
   "source": [
    "min_distance = 5.5\n",
    "min_size = 10\n",
    "max_size = 1000\n",
    "max_number_of_grains = 1000\n",
    "marker_radius = 2\n",
    "exclude_border = 2"
   ]
  },
  {
   "cell_type": "code",
   "execution_count": null,
   "metadata": {},
   "outputs": [],
   "source": [
    "i = 25\n",
    "sep_i = separate_watershed(\n",
    "    VDFs.inav[i].data, min_distance=min_distance, min_size=min_size,\n",
    "    max_size=max_size, max_number_of_grains=max_number_of_grains,\n",
    "    exclude_border=exclude_border, marker_radius=marker_radius,\n",
    "    threshold=True, plot_on=True)"
   ]
  },
  {
   "cell_type": "markdown",
   "metadata": {},
   "source": [
    "Perform segmentation on all the VDF images"
   ]
  },
  {
   "cell_type": "code",
   "execution_count": null,
   "metadata": {},
   "outputs": [],
   "source": [
    "segs = VDFs.get_vdf_segments(min_distance=min_distance,\n",
    "                             min_size=min_size,\n",
    "                             max_size = max_size,\n",
    "                             max_number_of_grains = max_number_of_grains,\n",
    "                             exclude_border=exclude_border,\n",
    "                             marker_radius=marker_radius,\n",
    "                             threshold=True)\n",
    "\n",
    "print(np.shape(segs.segments)[0],' segments were found.')"
   ]
  },
  {
   "cell_type": "markdown",
   "metadata": {},
   "source": [
    "Plot the segments for inspection"
   ]
  },
  {
   "cell_type": "code",
   "execution_count": null,
   "metadata": {},
   "outputs": [],
   "source": [
    "segs.segments.plot(cmap='magma_r')"
   ]
  },
  {
   "cell_type": "markdown",
   "metadata": {},
   "source": [
    "Calculate normalised cross-correlations between all VDF image segments to identify those that are related to the same crystal."
   ]
  },
  {
   "cell_type": "code",
   "execution_count": null,
   "metadata": {},
   "outputs": [],
   "source": [
    "ncc_vdf = segs.get_ncc_matrix()\n",
    "ncc_vdf.plot(scalebar=False, cmap='RdBu')"
   ]
  },
  {
   "cell_type": "markdown",
   "metadata": {},
   "source": [
    "If the correlation value exceeds *corr_threshold* for certain segments, those segments are summed. These segments are discarded if the number of these segments are below *vector_threshold*, as this number corresponds to the number of detected diffraction peaks associated with the single crystal. The *vector_threshold* criteria is included to avoid including segment images resulting from noise or incorrect segmentation. "
   ]
  },
  {
   "cell_type": "code",
   "execution_count": null,
   "metadata": {},
   "outputs": [],
   "source": [
    "corr_threshold=0.7\n",
    "vector_threshold=5\n",
    "segment_threshold=4"
   ]
  },
  {
   "cell_type": "code",
   "execution_count": null,
   "metadata": {},
   "outputs": [],
   "source": [
    "corrsegs = segs.correlate_vdf_segments(\n",
    "    corr_threshold=corr_threshold, vector_threshold=vector_threshold,\n",
    "    segment_threshold=segment_threshold)\n",
    "print(np.shape(corrsegs.segments)[0],' correlated segments were found.')"
   ]
  },
  {
   "cell_type": "markdown",
   "metadata": {},
   "source": [
    "Simulate virtual diffraction patterns for each summed segment"
   ]
  },
  {
   "cell_type": "code",
   "execution_count": null,
   "metadata": {},
   "outputs": [],
   "source": [
    "sigma = scale*1.5\n",
    "\n",
    "virtual_sig = corrsegs.get_virtual_electron_diffraction(\n",
    "    calibration=scale, shape=(int(radius_px*2), int(radius_px*2)), sigma=sigma)\n",
    "virtual_sig.set_diffraction_calibration(scale)"
   ]
  },
  {
   "cell_type": "markdown",
   "metadata": {},
   "source": [
    "Plot the final results from the VDF image-based segmentation"
   ]
  },
  {
   "cell_type": "code",
   "execution_count": null,
   "metadata": {
    "scrolled": true
   },
   "outputs": [],
   "source": [
    "hs.plot.plot_images(corrsegs.segments, cmap='magma_r', axes_decor='off',\n",
    "                    per_row=np.shape(corrsegs.segments)[0],\n",
    "                    suptitle='', scalebar=False, scalebar_color='white',\n",
    "                    colorbar=False,\n",
    "                    padding={'top': 0.95, 'bottom': 0.05,\n",
    "                             'left': 0.05, 'right':0.78})\n",
    "hs.plot.plot_images(virtual_sig, cmap='magma_r', axes_decor='off',\n",
    "                    per_row=np.shape(corrsegs.segments)[0],\n",
    "                    suptitle='', scalebar=False, scalebar_color='white',\n",
    "                    colorbar=False,\n",
    "                    padding={'top': 0.95, 'bottom': 0.05,\n",
    "                             'left': 0.05, 'right': 0.78})"
   ]
  },
  {
   "cell_type": "markdown",
   "metadata": {},
   "source": [
    "<a id='nmf'></a> \n",
    "## 3. NMF Based Segmentation"
   ]
  },
  {
   "cell_type": "markdown",
   "metadata": {},
   "source": [
    "### 3.1. NMF Decomposition"
   ]
  },
  {
   "cell_type": "markdown",
   "metadata": {},
   "source": [
    "Create a signal mask so that the region in the centre of each PED pattern, including the direct beam, can be excluded in the machine learning. "
   ]
  },
  {
   "cell_type": "code",
   "execution_count": null,
   "metadata": {},
   "outputs": [],
   "source": [
    "dpm = pxm.Diffraction2D(dp.inav[0,0])\n",
    "signal_mask = dpm.get_direct_beam_mask(radius=10)\n",
    "signal_mask.plot()"
   ]
  },
  {
   "cell_type": "markdown",
   "metadata": {},
   "source": [
    "Perform single value decomposition (SVD)"
   ]
  },
  {
   "cell_type": "code",
   "execution_count": null,
   "metadata": {},
   "outputs": [],
   "source": [
    "dp.change_dtype('float32')\n",
    "dp.decomposition(algorithm='svd',\n",
    "                 normalize_poissonian_noise=True,\n",
    "                 centre='variables',\n",
    "                 signal_mask=signal_mask.data)"
   ]
  },
  {
   "cell_type": "code",
   "execution_count": null,
   "metadata": {},
   "outputs": [],
   "source": [
    "dp.plot_decomposition_results()"
   ]
  },
  {
   "cell_type": "markdown",
   "metadata": {},
   "source": [
    "Investigate the scree plot and use it as a guide to determine the number of components"
   ]
  },
  {
   "cell_type": "code",
   "execution_count": null,
   "metadata": {},
   "outputs": [],
   "source": [
    "num_comp=11\n",
    "\n",
    "ax = dp.plot_explained_variance_ratio(n=200, threshold=num_comp,\n",
    "                                      hline=True, xaxis_labeling='ordinal',\n",
    "                                      signal_fmt={'color':'k', 'marker':'.'}, \n",
    "                                      noise_fmt={'color':'gray', 'marker':'.'})"
   ]
  },
  {
   "cell_type": "markdown",
   "metadata": {},
   "source": [
    "Perform NMF decomposition with specified number of components"
   ]
  },
  {
   "cell_type": "code",
   "execution_count": null,
   "metadata": {},
   "outputs": [],
   "source": [
    "dp.decomposition(normalize_poissonian_noise=True,\n",
    "                 algorithm='nmf',\n",
    "                 output_dimension=num_comp,\n",
    "                 signal_mask=signal_mask.data)"
   ]
  },
  {
   "cell_type": "code",
   "execution_count": null,
   "metadata": {},
   "outputs": [],
   "source": [
    "dp_nmf = dp.get_decomposition_model(components=np.arange(num_comp))\n",
    "factors = dp_nmf.get_decomposition_factors()\n",
    "loadings = dp_nmf.get_decomposition_loadings()"
   ]
  },
  {
   "cell_type": "markdown",
   "metadata": {},
   "source": [
    "Plot the NMF results"
   ]
  },
  {
   "cell_type": "code",
   "execution_count": null,
   "metadata": {},
   "outputs": [],
   "source": [
    "hs.plot.plot_images(loadings, cmap='magma_r', axes_decor='off', per_row=11,\n",
    "             suptitle='', scalebar=False, scalebar_color='white', colorbar=False,\n",
    "             padding={'top': 0.95, 'bottom': 0.05,\n",
    "                      'left': 0.05, 'right':0.78})\n",
    "hs.plot.plot_images(factors, cmap='magma_r', axes_decor='off', per_row=11,\n",
    "             suptitle='', scalebar=False, scalebar_color='white', colorbar=False,\n",
    "             padding={'top': 0.95, 'bottom': 0.05,\n",
    "                      'left': 0.05, 'right':0.78})"
   ]
  },
  {
   "cell_type": "markdown",
   "metadata": {},
   "source": [
    "Discard the components related to background (\\#0) and to the carbon film (\\#4)"
   ]
  },
  {
   "cell_type": "code",
   "execution_count": null,
   "metadata": {},
   "outputs": [],
   "source": [
    "from hyperspy.signals import Signal2D"
   ]
  },
  {
   "cell_type": "code",
   "execution_count": null,
   "metadata": {},
   "outputs": [],
   "source": [
    "factors = Signal2D(np.delete(factors.data, [0, 4], axis = 0))\n",
    "loadings = Signal2D(np.delete(loadings.data, [0, 4], axis = 0))"
   ]
  },
  {
   "cell_type": "code",
   "execution_count": null,
   "metadata": {},
   "outputs": [],
   "source": [
    "hs.plot.plot_images(factors, cmap='magma_r', axes_decor='off',\n",
    "                    per_row=9, suptitle='', scalebar=False,\n",
    "                    scalebar_color='white', colorbar=False,\n",
    "                    padding={'top': 0.95, 'bottom': 0.05,\n",
    "                             'left': 0.05, 'right':0.78})\n",
    "\n",
    "hs.plot.plot_images(loadings, cmap='magma_r', axes_decor='off',\n",
    "                    per_row=9, suptitle='', scalebar=False,\n",
    "                    scalebar_color='white', colorbar=False,\n",
    "                    padding={'top': 0.95, 'bottom': 0.05,\n",
    "                             'left': 0.05, 'right':0.78})"
   ]
  },
  {
   "cell_type": "markdown",
   "metadata": {},
   "source": [
    "### 3.2. Correlate NMF Loading Maps"
   ]
  },
  {
   "cell_type": "markdown",
   "metadata": {},
   "source": [
    "NMF often leads to splitting of some crystals into several components. Therefore the correlation between loadings and between component patterns are calculated, and if both the correlation values for loadings and factors exceed threshold values, those loadings and factors are summed. "
   ]
  },
  {
   "cell_type": "markdown",
   "metadata": {},
   "source": [
    "Calculate the matrix of normalised cross-correlation for both the loadings and patterns first, to find suitable correlation threshold values. "
   ]
  },
  {
   "cell_type": "code",
   "execution_count": null,
   "metadata": {},
   "outputs": [],
   "source": [
    "from pyxem.signals.segments import LearningSegment\n",
    "learn = LearningSegment(factors=factors, loadings=loadings)"
   ]
  },
  {
   "cell_type": "code",
   "execution_count": null,
   "metadata": {},
   "outputs": [],
   "source": [
    "ncc_nmf = learn.get_ncc_matrix()"
   ]
  },
  {
   "cell_type": "code",
   "execution_count": null,
   "metadata": {},
   "outputs": [],
   "source": [
    "ncc_nmf.plot(scalebar=False, cmap='RdBu')"
   ]
  },
  {
   "cell_type": "code",
   "execution_count": null,
   "metadata": {},
   "outputs": [],
   "source": [
    "corr_th_factors = 0.45\n",
    "corr_th_loadings = 0.3"
   ]
  },
  {
   "cell_type": "markdown",
   "metadata": {},
   "source": [
    "Perform correlation and summation of the factors and loadings"
   ]
  },
  {
   "cell_type": "code",
   "execution_count": null,
   "metadata": {},
   "outputs": [],
   "source": [
    "learn_corr = learn.correlate_learning_segments(corr_th_factors=corr_th_factors,\n",
    "                                               corr_th_loadings=corr_th_loadings)"
   ]
  },
  {
   "cell_type": "markdown",
   "metadata": {},
   "source": [
    "Plot the NMF reuslts after correlation and summation"
   ]
  },
  {
   "cell_type": "code",
   "execution_count": null,
   "metadata": {},
   "outputs": [],
   "source": [
    "hs.plot.plot_images(learn_corr.loadings, cmap='magma_r', axes_decor='off',\n",
    "                    per_row=7, suptitle='', scalebar=False,\n",
    "                    scalebar_color='white', colorbar=False,\n",
    "                    padding={'top': 0.95, 'bottom': 0.05,\n",
    "                             'left': 0.05, 'right':0.78})\n",
    "hs.plot.plot_images(learn_corr.factors, cmap='magma_r', axes_decor='off',\n",
    "                    per_row=7, suptitle='', scalebar=False,\n",
    "                    scalebar_color='white', colorbar=False,\n",
    "                    padding={'top': 0.95, 'bottom': 0.05,\n",
    "                             'left': 0.05, 'right':0.78})"
   ]
  },
  {
   "cell_type": "markdown",
   "metadata": {},
   "source": [
    "First investigate how the parameters influence the segmentation on\n",
    "one single loading map."
   ]
  },
  {
   "cell_type": "code",
   "execution_count": null,
   "metadata": {},
   "outputs": [],
   "source": [
    "from pyxem.utils.segment_utils import separate_watershed"
   ]
  },
  {
   "cell_type": "code",
   "execution_count": null,
   "metadata": {},
   "outputs": [],
   "source": [
    "min_distance = 10\n",
    "min_size = 50\n",
    "max_size = 100000\n",
    "max_number_of_grains = 100000\n",
    "marker_radius = 2\n",
    "exclude_border = 1\n",
    "threshold = True"
   ]
  },
  {
   "cell_type": "code",
   "execution_count": null,
   "metadata": {},
   "outputs": [],
   "source": [
    "i =1\n",
    "sep_i = separate_watershed(\n",
    "    learn_corr.loadings.data[i], min_distance=min_distance,\n",
    "    min_size=min_size, max_size=max_size, \n",
    "    max_number_of_grains=max_number_of_grains,\n",
    "    exclude_border=exclude_border, \n",
    "    marker_radius=marker_radius, threshold=True, plot_on=True)"
   ]
  },
  {
   "cell_type": "markdown",
   "metadata": {},
   "source": [
    "Set a threshold for the minimum intensity value that a loading segment must contain in order to be kept. "
   ]
  },
  {
   "cell_type": "code",
   "execution_count": null,
   "metadata": {},
   "outputs": [],
   "source": [
    "min_intensity_threshold = 10000"
   ]
  },
  {
   "cell_type": "code",
   "execution_count": null,
   "metadata": {},
   "outputs": [],
   "source": [
    "learn_corr_seg = learn_corr.separate_learning_segments(\n",
    "    min_intensity_threshold=min_intensity_threshold,\n",
    "    min_distance = min_distance, min_size = min_size,\n",
    "    max_size = max_size, \n",
    "    max_number_of_grains = max_number_of_grains,\n",
    "    exclude_border = exclude_border,\n",
    "    marker_radius = marker_radius, threshold = True)"
   ]
  },
  {
   "cell_type": "markdown",
   "metadata": {},
   "source": [
    "Plot the final results from the NMF-based segmentation"
   ]
  },
  {
   "cell_type": "code",
   "execution_count": null,
   "metadata": {},
   "outputs": [],
   "source": [
    "hs.plot.plot_images(learn_corr_seg.loadings, \n",
    "                    cmap='magma_r', axes_decor='off',\n",
    "                    per_row=10, suptitle='', scalebar=False,\n",
    "                    scalebar_color='white', colorbar=False,\n",
    "                    padding={'top': 0.95, 'bottom': 0.05,\n",
    "                             'left': 0.05, 'right':0.78})\n",
    "\n",
    "hs.plot.plot_images(learn_corr_seg.factors, \n",
    "                    cmap='magma_r', axes_decor='off',\n",
    "                    per_row=10, suptitle='', scalebar=False,\n",
    "                    scalebar_color='white', colorbar=False,\n",
    "                    padding={'top': 0.95, 'bottom': 0.05,\n",
    "                             'left': 0.05, 'right':0.78})"
   ]
  },
  {
   "cell_type": "code",
   "execution_count": null,
   "metadata": {},
   "outputs": [],
   "source": []
  },
  {
   "cell_type": "code",
   "execution_count": null,
   "metadata": {},
   "outputs": [],
   "source": []
  },
  {
   "cell_type": "code",
   "execution_count": null,
   "metadata": {},
   "outputs": [],
   "source": []
  },
  {
   "cell_type": "code",
   "execution_count": null,
   "metadata": {},
   "outputs": [],
   "source": []
  },
  {
   "cell_type": "code",
   "execution_count": null,
   "metadata": {},
   "outputs": [],
   "source": []
  },
  {
   "cell_type": "code",
   "execution_count": null,
   "metadata": {},
   "outputs": [],
   "source": []
  },
  {
   "cell_type": "code",
   "execution_count": null,
   "metadata": {},
   "outputs": [],
   "source": []
  },
  {
   "cell_type": "code",
   "execution_count": null,
   "metadata": {},
   "outputs": [],
   "source": []
  },
  {
   "cell_type": "code",
   "execution_count": null,
   "metadata": {},
   "outputs": [],
   "source": []
  },
  {
   "cell_type": "code",
   "execution_count": null,
   "metadata": {},
   "outputs": [],
   "source": []
  },
  {
   "cell_type": "code",
   "execution_count": null,
   "metadata": {},
   "outputs": [],
   "source": []
  },
  {
   "cell_type": "code",
   "execution_count": null,
   "metadata": {},
   "outputs": [],
   "source": []
  }
 ],
 "metadata": {
  "kernelspec": {
   "display_name": "Python 3",
   "language": "python",
   "name": "python3"
  },
  "language_info": {
   "codemirror_mode": {
    "name": "ipython",
    "version": 3
   },
   "file_extension": ".py",
   "mimetype": "text/x-python",
   "name": "python",
   "nbconvert_exporter": "python",
   "pygments_lexer": "ipython3",
   "version": "3.7.3"
  }
 },
 "nbformat": 4,
 "nbformat_minor": 4
}
