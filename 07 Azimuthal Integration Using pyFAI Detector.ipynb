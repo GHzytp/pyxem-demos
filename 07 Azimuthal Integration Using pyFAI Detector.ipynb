{
 "cells": [
  {
   "cell_type": "markdown",
   "metadata": {},
   "source": [
    "# Azimuthal Integral"
   ]
  },
  {
   "cell_type": "markdown",
   "metadata": {},
   "source": [
    "## Introduction"
   ]
  },
  {
   "cell_type": "markdown",
   "metadata": {},
   "source": [
    "This tutorial demonstrates how to acquire an azimuthal integral profile from a multidimensional data set in pyXem. \n",
    "\n",
    "The data set is a 10x10x256x256 data set of a polycrystalline gold film acquired using a Medipix3 256 by 256 pixel detector. \n",
    "\n",
    "This functionality has been checked to run in pyxem-0.15.0 (April 2023). Bugs are always possible, do not trust the code blindly, and if you experience any issues please report them here: https://github.com/pyxem/pyxem-demos/issues"
   ]
  },
  {
   "cell_type": "markdown",
   "metadata": {},
   "source": [
    "## Contents"
   ]
  },
  {
   "cell_type": "markdown",
   "metadata": {},
   "source": [
    "At this point things are mostly set up.  There are a couple of different work flows moving forward which allow the user a fair degree of control.  In general the key parameter is the unit keyword in the integration.  Let's show the different use cases and you can choose which works the best into your workflow. Case 1 and Case 2 should be suffient for most use cases but case 3 gives you additional functionality by allowing to user to predefine their detector to thier specifications.  \n",
    "\n",
    "0. <a href='#c0'> Loading and Inspection</a>\n",
    "1. <a href='#c1'> PyXEM units based integration</a>\n",
    "3. <a href='#c2'> PyFAI units based integration</a>\n",
    "4. <a href='#c3'> Additional Parameters (center, affine, masks, methods)</a>"
   ]
  },
  {
   "cell_type": "markdown",
   "metadata": {},
   "source": [
    "<a id='c0'></a> "
   ]
  },
  {
   "cell_type": "markdown",
   "metadata": {},
   "source": [
    "## 0. Loading and Inspection"
   ]
  },
  {
   "cell_type": "markdown",
   "metadata": {},
   "source": [
    "Import pyxem and other required libraries"
   ]
  },
  {
   "cell_type": "code",
   "execution_count": null,
   "metadata": {},
   "outputs": [],
   "source": [
    "%matplotlib inline\n",
    "import hyperspy.api as hs\n",
    "import numpy as np\n",
    "import matplotlib.pyplot as plt"
   ]
  },
  {
   "cell_type": "markdown",
   "metadata": {},
   "source": [
    "Assert that pyxem is properly loaded into hyperspy.."
   ]
  },
  {
   "cell_type": "code",
   "execution_count": null,
   "metadata": {},
   "outputs": [],
   "source": [
    "print(hs.print_known_signal_types())"
   ]
  },
  {
   "cell_type": "markdown",
   "metadata": {},
   "source": [
    "Load polycrystalline SED data"
   ]
  },
  {
   "cell_type": "code",
   "execution_count": null,
   "metadata": {},
   "outputs": [],
   "source": [
    "dp = hs.load(\"./data/07/azimuthal_integration.hspy\", signal_type='electron_diffraction')"
   ]
  },
  {
   "cell_type": "markdown",
   "metadata": {},
   "source": [
    "Check the data size and type.  It is also a good idea to look at your data as well just to make sure it loaded properly. Then we will set the diffraction and scan calibration based on values found by calibrating the dataset to a known standard."
   ]
  },
  {
   "cell_type": "code",
   "execution_count": null,
   "metadata": {},
   "outputs": [],
   "source": [
    "calib = 0.009197\n",
    "dp.diffraction_calibration=calib\n",
    "dp.scan_calibration= 5\n",
    "dp.axes_manager"
   ]
  },
  {
   "cell_type": "code",
   "execution_count": null,
   "metadata": {},
   "outputs": [],
   "source": [
    "print(\"Signal type and dimensions: \", dp)\n",
    "dp.inav[1,1].plot(vmax=1000)\n",
    "plt.show()"
   ]
  },
  {
   "cell_type": "markdown",
   "metadata": {},
   "source": [
    "<a id='c1'></a>"
   ]
  },
  {
   "cell_type": "markdown",
   "metadata": {},
   "source": [
    "## Case 1: PyXEM units based integration.\n",
    "\n",
    "The key difference between Case 1 and Case 2 is that for Case 1 the units are already set in PyXEM so the detector distance and dectector set up are just handled by creating a generic set up that aligns with how pyXEM deals with calibrations.  \n",
    "\n",
    "All of these integrations are done by pyFAI so it might be worth it to discuss how pyFAI does their integration.\n",
    "\n",
    "**PyFAI Integration**\n",
    "In pyFAI there are three geometries that are of interest.  The best way to think about them are as two concentric spheres with a real detector at the apex of one sphere and an imaginary detector at the apex of the other sphere. This gives rise to two corrections that are applied to the data. \n",
    "\n",
    "1- correctSolidAngle: This is to correct for a sphere being projected onto a flat detector.  It takes and makes pixel values farther from the center more intense to account for their lower intensity.\n",
    "2- Ewald Sphere Correction: This takes into account the change in intensity for dealing with the ewald sphere as well as the distorition in the spacing.  \n",
    "\n",
    "What connects these two spheres is that their solid angles are equal, which gives rise to the 2th_deg and 2th_rad formalisim.  By their nature these two ignore the ewald \n",
    "\n",
    "\n",
    "To simplify things when pyXEM deals with this integration we assume a flat detector and constant radius of one sphere and then just change the pixel size of the detector to\n",
    "\n",
    "The key things that need to be set are the \"unit\" and the \"beam_energy\" which are both attribuites that can be set with:\n",
    " \n",
    "    dp.unit = \"k_A^-1\"\n",
    "    dp.beam_energy =  200 # keV\n",
    "\n",
    "The other acceptable units are \"k_nm^-1\", \"q_nm^-1\", \"q_A^-1\", \"2th_deg\", \"2th_rad\". \n",
    " - \"q_nm^-1\" (q inverse spacing, mostly used with Xray data)\n",
    " - \"q_A^-1\"\n",
    " - \"k_nm^-1\" (k inverse spacing, mostly used for electron diffraction data, factor of 2 pi less than q)\n",
    " - \"k_A^-1\"\n",
    " - \"2th_deg\" (degree spacing, doesn't account for ewald sphere)\n",
    " - \"2th_rad\" (radial spacing, doesn't account for ewald sphere)\n",
    " \n",
    " **Note:**\n",
    " \n",
    "For electron diffraction the Ewald sphere is largely not considered.  Rather some reflection in a standard material is used to calibrate the pixel size.  Then that pixel size is used consistantly assuming a constant.  This is mostly correct, and largely what we do in the first case expect we use that calibration to define one point on the Ewald sphere and then calculate the scale from there. "
   ]
  },
  {
   "cell_type": "code",
   "execution_count": null,
   "metadata": {},
   "outputs": [],
   "source": [
    "dp.unit = \"k_A^-1\" \n",
    "dp.beam_energy = 200 # in 200 keV"
   ]
  },
  {
   "cell_type": "code",
   "execution_count": null,
   "metadata": {},
   "outputs": [],
   "source": [
    "dp.axes_manager # see how the units now are set for the signal axis."
   ]
  },
  {
   "cell_type": "code",
   "execution_count": null,
   "metadata": {},
   "outputs": [],
   "source": [
    "#if we want to see more about the function \n",
    "dp.set_ai?"
   ]
  },
  {
   "cell_type": "code",
   "execution_count": null,
   "metadata": {},
   "outputs": [],
   "source": [
    "dp.set_ai()"
   ]
  },
  {
   "cell_type": "code",
   "execution_count": null,
   "metadata": {},
   "outputs": [],
   "source": [
    "integration  = dp.get_azimuthal_integral1d(npt=100, )"
   ]
  },
  {
   "cell_type": "code",
   "execution_count": null,
   "metadata": {},
   "outputs": [],
   "source": [
    "integration2d = dp.get_azimuthal_integral2d(npt=100)"
   ]
  },
  {
   "cell_type": "code",
   "execution_count": null,
   "metadata": {},
   "outputs": [],
   "source": [
    "# Excluding the zero beam...\n",
    "integration.inav[0,0].isig[10:].plot()\n",
    "integration2d.inav[0,0].isig[:,10:].plot()\n",
    "plt.show()"
   ]
  },
  {
   "cell_type": "markdown",
   "metadata": {},
   "source": [
    "<a id='c2'></a>"
   ]
  },
  {
   "cell_type": "markdown",
   "metadata": {},
   "source": [
    "## Case 2: PyFAI based Integration"
   ]
  },
  {
   "cell_type": "markdown",
   "metadata": {},
   "source": [
    "The second case involves setting up your own detector, detector distance, wavelength etc.  If you have a good understanding of [pyFAI](https://pyfai.readthedocs.io/en/latest/index.html) then this might actually be the best route.  There are a significant number of parameters to play with when using pyFAI, however, so there is a litte bit of extra set up involved and in my opinion a little more difficulty in getting more advanced cases. There are a couple of detectors already set up in pyxem dectectors and more in pyFAI so check there first to see what other people have done."
   ]
  },
  {
   "cell_type": "code",
   "execution_count": null,
   "metadata": {},
   "outputs": [],
   "source": [
    "from pyxem.detectors import Medipix256x256Detector"
   ]
  },
  {
   "cell_type": "code",
   "execution_count": null,
   "metadata": {},
   "outputs": [],
   "source": [
    "detector = Medipix256x256Detector()\n",
    "print(detector)"
   ]
  },
  {
   "cell_type": "markdown",
   "metadata": {},
   "source": [
    "**Calibration:**\n",
    "\n",
    "In addition to specifying the detector, to accurately calculate the curvature of the Ewald Sphere, it is important to specify a calibration. In addition, the wavelength is specified to do that calculation.\n",
    "\n",
    "The calibration is calculated by knowing the camera length. Alternatively, by assuming a no curvature in the detector, it is possible to calculate the camera length from an \"inverse angstroms per pixel\" calibration value. We suggest calibrating to a gold pattern for a calibration value and using the latter (for electron microscopy)."
   ]
  },
  {
   "cell_type": "code",
   "execution_count": null,
   "metadata": {},
   "outputs": [],
   "source": [
    "# Reading the camera length from microscope\n",
    "camera_length = 0.24 #in metres"
   ]
  },
  {
   "cell_type": "code",
   "execution_count": null,
   "metadata": {},
   "outputs": [],
   "source": [
    "# Calculating camera length from real pixel size and recoporical pixel size\n",
    "wavelength = 2.5079e-12\n",
    "pix_size = 55e-6 #change to 1 if using the GenericFlatDetector()\n",
    "camera_length = pix_size / (wavelength * calib * 1e10)\n",
    "print('Camera Length:', camera_length)"
   ]
  },
  {
   "cell_type": "code",
   "execution_count": null,
   "metadata": {},
   "outputs": [],
   "source": [
    "from pyFAI.azimuthalIntegrator import AzimuthalIntegrator"
   ]
  },
  {
   "cell_type": "code",
   "execution_count": null,
   "metadata": {},
   "outputs": [],
   "source": [
    "center=(128,128)\n",
    "ai = AzimuthalIntegrator(dist=camera_length, detector=detector, wavelength=wavelength)\n",
    "ai.setFit2D(directDist=camera_length*1000, centerX=center[1], centerY=center[0])\n",
    "dp.metadata.set_item(\"Signal.ai\", ai)"
   ]
  },
  {
   "cell_type": "code",
   "execution_count": null,
   "metadata": {},
   "outputs": [],
   "source": [
    "integration1d = dp.get_azimuthal_integral1d(npt =100)\n",
    "integration2d = dp.get_azimuthal_integral2d(npt =100)"
   ]
  },
  {
   "cell_type": "code",
   "execution_count": null,
   "metadata": {},
   "outputs": [],
   "source": [
    "integration1d.inav[1,1].isig[0.2:].plot()"
   ]
  },
  {
   "cell_type": "code",
   "execution_count": null,
   "metadata": {
    "tags": [
     "nbsphinx-thumbnail"
    ]
   },
   "outputs": [],
   "source": [
    "integration2d.inav[1,1].isig[:, 0.2:].plot()"
   ]
  },
  {
   "cell_type": "markdown",
   "metadata": {},
   "source": [
    "<a id='c3'></a>"
   ]
  },
  {
   "cell_type": "markdown",
   "metadata": {},
   "source": [
    "##  **Additional Parameters:**\n",
    "\n",
    "There are a couple of different thing you can play around with at this point.  For one there are three additional parameters that are useful for more advanced calibrations.  These will work in all three of the cases but with case 3 some of these parameters can be intialized as you instantiate the detector.  For the most part though these should be passed in as the method is calls.\n",
    "\n",
    "The three parameters are:\n",
    "\n",
    "- center - The center of the diffraction pattern if it is not the center of the image\n",
    "- affine - A 3x3 matrix which represents an affine transformation to the singal.\n",
    "- mask - A mask with the same size as the singal.  \n",
    "\n",
    "These three parameters can also be passed as BaseSignal objects from hyperspy and with the same size navigation axes as the original signal.  In this case they will be iterated with the diffraction signal and a different calibration is applied to every diffraciton pattern"
   ]
  },
  {
   "cell_type": "markdown",
   "metadata": {},
   "source": [
    "### Affine\n",
    "\n",
    "This applies an affine transfromation to the dataset before the integration. "
   ]
  },
  {
   "cell_type": "code",
   "execution_count": null,
   "metadata": {},
   "outputs": [],
   "source": [
    "affine = np.array([[0.99978285, 0.00341758, 0.],\n",
    "                   [0.00341758, 0.94621262, 0.],\n",
    "                   [0., 0., 1.]])"
   ]
  },
  {
   "cell_type": "code",
   "execution_count": null,
   "metadata": {},
   "outputs": [],
   "source": [
    "dp.set_ai(affine=affine)"
   ]
  },
  {
   "cell_type": "code",
   "execution_count": null,
   "metadata": {},
   "outputs": [],
   "source": [
    "integration  = dp.get_azimuthal_integral1d(npt=100)\n",
    "integration2d = dp.get_azimuthal_integral2d(npt=100)"
   ]
  },
  {
   "cell_type": "code",
   "execution_count": null,
   "metadata": {},
   "outputs": [],
   "source": [
    "# Excluding the zero beam...\n",
    "integration.inav[0,0].isig[0.2:].plot()\n",
    "integration2d.inav[0,0].isig[:,.2:].plot()\n",
    "plt.show()"
   ]
  },
  {
   "cell_type": "markdown",
   "metadata": {},
   "source": [
    "Let's take a different example using an obviously distorted ring pattern.  The goal is to apply an affine transformation such that the rings become lines with minimal distortion.  In general just appling a azimuthal integration2d to your diffraction image is a good way to determine if there is any distortion in the image.  Waves in the image are much more obvious than slight ellipticity in an image with cartesian coodinates. "
   ]
  },
  {
   "cell_type": "code",
   "execution_count": null,
   "metadata": {},
   "outputs": [],
   "source": [
    "from diffsims.utils.ring_pattern_utils import generate_ring_pattern"
   ]
  },
  {
   "cell_type": "code",
   "execution_count": null,
   "metadata": {},
   "outputs": [],
   "source": [
    " x0 = [95, 1200, 2.8, 450, 1.5, 10]\n",
    "ring_data = generate_ring_pattern(\n",
    "        image_size=256,\n",
    "        mask=True,\n",
    "        mask_radius=10,\n",
    "        scale=x0[0],\n",
    "        amplitude=x0[1],\n",
    "        spread=x0[2],\n",
    "        direct_beam_amplitude=x0[3],\n",
    "        asymmetry=x0[4],\n",
    "        rotation=x0[5],\n",
    "    )"
   ]
  },
  {
   "cell_type": "code",
   "execution_count": null,
   "metadata": {},
   "outputs": [],
   "source": [
    "import pyxem\n",
    "import numpy as np"
   ]
  },
  {
   "cell_type": "code",
   "execution_count": null,
   "metadata": {},
   "outputs": [],
   "source": [
    "d =pyxem.signals.ElectronDiffraction2D(data=ring_data)"
   ]
  },
  {
   "cell_type": "code",
   "execution_count": null,
   "metadata": {},
   "outputs": [],
   "source": [
    "a = np.asarray(\n",
    "        [[1.06651526, 0.10258988, 0.0], [0.10258988, 1.15822961, 0.0], [0.0, 0.0, 1.0]]\n",
    "    )"
   ]
  },
  {
   "cell_type": "code",
   "execution_count": null,
   "metadata": {},
   "outputs": [],
   "source": [
    "d.plot()\n",
    "d.unit = \"2th_deg\"\n",
    "d.set_ai(affine=a)\n",
    "d.get_azimuthal_integral2d(npt=100, correctSolidAngle=False).plot()"
   ]
  },
  {
   "cell_type": "markdown",
   "metadata": {},
   "source": [
    "### Masking\n",
    "\n",
    "Below we show how a mask might be applied.  For the time being it is much faster to have mask, center and affine be numpy arrays rather than BaseSignals as making a new integration object for each is quite a costly computation."
   ]
  },
  {
   "cell_type": "code",
   "execution_count": null,
   "metadata": {},
   "outputs": [],
   "source": [
    "mask = dp.get_direct_beam_mask(radius=30)"
   ]
  },
  {
   "cell_type": "code",
   "execution_count": null,
   "metadata": {},
   "outputs": [],
   "source": [
    "integration  = dp.get_azimuthal_integral1d(npt=100, mask=mask.data)\n",
    "integration2d = dp.get_azimuthal_integral2d(npt=100, mask=mask.data)"
   ]
  },
  {
   "cell_type": "code",
   "execution_count": null,
   "metadata": {},
   "outputs": [],
   "source": [
    "integration.inav[1,1].isig[:].plot()\n",
    "integration2d.inav[1,1].isig[:,:].plot()"
   ]
  },
  {
   "cell_type": "markdown",
   "metadata": {},
   "source": [
    "### Methods\n",
    "\n",
    "This final section gives a breif explination of the different methods avaible through pyfai. They all also have the option to correctSolidAngle.  It is best just to show you the output for each method and from there you can determine which you might perfer. The correctSolid angle parameter is largely unimportant in electron microcopy becuase of the size of the Ewald's Sphere"
   ]
  },
  {
   "cell_type": "code",
   "execution_count": null,
   "metadata": {},
   "outputs": [],
   "source": [
    "methods = [\"numpy\", \"cython\", \"BBox\",\"splitpixel\", \"lut\", \"csr\", \"nosplit_csr\", \"full_csr\"]"
   ]
  },
  {
   "cell_type": "code",
   "execution_count": null,
   "metadata": {},
   "outputs": [],
   "source": [
    "littledp = dp.inav[1,1]"
   ]
  },
  {
   "cell_type": "code",
   "execution_count": null,
   "metadata": {},
   "outputs": [],
   "source": [
    "import time"
   ]
  },
  {
   "cell_type": "code",
   "execution_count": null,
   "metadata": {},
   "outputs": [],
   "source": [
    "integrations= [] \n",
    "times = [] \n",
    "for method in methods:\n",
    "    tic = time.time()\n",
    "    no_sa = littledp.get_azimuthal_integral2d(npt=100, method=method, correctSolidAngle=False)\n",
    "    toc = time.time()\n",
    "    sa = littledp.get_azimuthal_integral2d(npt=100, method=method, correctSolidAngle=True)\n",
    "    toc2 =time.time()\n",
    "    integrations.append(no_sa)\n",
    "    integrations.append(sa)\n",
    "    times.append([toc-tic, toc2-toc])"
   ]
  },
  {
   "cell_type": "code",
   "execution_count": null,
   "metadata": {},
   "outputs": [],
   "source": [
    "lab = [\"numpy\",\"numpy_SA\", \"cython\",\"cython_SA\", \"BBox\", \"BBox_SA\", \"splitpixel\",\"splitpixel_SA\",\n",
    "           \"lut\",\"lut_SA\", \"csr\",\"csr_SA\", \"nosplit_csr\",\"nosplit_csr_SA\", \"full_csr\",\"full_csr_SA\"]\n",
    "lab_time = [ l+\" (\"+str(round(t[0],2))+\" sec)\" for l,t in zip(lab,times)]\n",
    "f = plt.figure(figsize=(20,30))\n",
    "hs.plot.plot_images(integrations,vmax=(1000), per_row=2, fig=f, label=lab_time)\n",
    "plt.show()"
   ]
  },
  {
   "cell_type": "code",
   "execution_count": null,
   "metadata": {},
   "outputs": [],
   "source": []
  },
  {
   "cell_type": "code",
   "execution_count": null,
   "metadata": {},
   "outputs": [],
   "source": []
  }
 ],
 "metadata": {
  "kernelspec": {
   "display_name": "pyxem39",
   "language": "python",
   "name": "pyxem39"
  },
  "language_info": {
   "codemirror_mode": {
    "name": "ipython",
    "version": 3
   },
   "file_extension": ".py",
   "mimetype": "text/x-python",
   "name": "python",
   "nbconvert_exporter": "python",
   "pygments_lexer": "ipython3",
   "version": "3.9.12"
  }
 },
 "nbformat": 4,
 "nbformat_minor": 2
}
